{
 "cells": [
  {
   "cell_type": "markdown",
   "metadata": {
    "id": "yC5cv9jiQBB-"
   },
   "source": [
    "# NumPy tutorial\n",
    "\n",
    "[Numerical Python](https://numpy.org) is one of the most fundamental tools in each data miner's toolbox. It is impossible to do serious data pre-processing and transformation without the understanding of `NumPy` and its most commonly used methods. The goal of this tutorial is to familiarize students with this awesome library."
   ]
  },
  {
   "cell_type": "markdown",
   "metadata": {
    "id": "Gb9iweXuQBCC"
   },
   "source": [
    "## Introduction\n",
    "\n",
    "99% of `NumPy` is one data structure and operations on that structure. `NumPy` stores everything in multidimensional arrays and vectorizes all operations on these arrays. For a motivating example, let's compare the speed of computing an average of 10 mln of random numbers stored in a list vs an array"
   ]
  },
  {
   "cell_type": "code",
   "execution_count": null,
   "metadata": {
    "ExecuteTime": {
     "end_time": "2021-03-04T13:09:30.997021Z",
     "start_time": "2021-03-04T13:09:30.231420Z"
    },
    "id": "2R4ET6WHQBCE"
   },
   "outputs": [],
   "source": [
    "import numpy as np\n",
    "from numpy.random import randint\n",
    "\n",
    "randoms = randint(low=0, high=1000, size=100000000)\n",
    "lst = list(randoms)"
   ]
  },
  {
   "cell_type": "code",
   "execution_count": null,
   "metadata": {
    "ExecuteTime": {
     "end_time": "2021-03-04T13:09:55.762564Z",
     "start_time": "2021-03-04T13:09:55.717269Z"
    },
    "colab": {
     "base_uri": "https://localhost:8080/"
    },
    "id": "tE0J0p96QBCG",
    "outputId": "99045ccf-74e0-4843-84c1-d7c75a30f377"
   },
   "outputs": [
    {
     "data": {
      "text/plain": [
       "100000000"
      ]
     },
     "execution_count": 2,
     "metadata": {},
     "output_type": "execute_result"
    }
   ],
   "source": [
    "len(lst)"
   ]
  },
  {
   "cell_type": "code",
   "execution_count": null,
   "metadata": {
    "ExecuteTime": {
     "end_time": "2021-03-04T12:49:38.689313Z",
     "start_time": "2021-03-04T12:49:36.690067Z"
    },
    "colab": {
     "base_uri": "https://localhost:8080/"
    },
    "id": "H6DLm-ZXQBCG",
    "outputId": "40b76ee7-655e-47f2-9639-450da5b11a71"
   },
   "outputs": [
    {
     "name": "stdout",
     "output_type": "stream",
     "text": [
      "Average = 499.45475096\n",
      "CPU times: user 20.1 s, sys: 89 ms, total: 20.2 s\n",
      "Wall time: 20.9 s\n"
     ]
    }
   ],
   "source": [
    "%%time\n",
    "\n",
    "# old-school iteration\n",
    "summ = 0\n",
    "for i in range(len(lst)):\n",
    "    summ += lst[i]\n",
    "    \n",
    "print(f'Average = {summ/len(lst)}')"
   ]
  },
  {
   "cell_type": "code",
   "execution_count": null,
   "metadata": {
    "ExecuteTime": {
     "end_time": "2021-03-04T12:49:56.610164Z",
     "start_time": "2021-03-04T12:49:55.653897Z"
    },
    "colab": {
     "base_uri": "https://localhost:8080/"
    },
    "id": "pK1N_dpFQBCH",
    "outputId": "59763415-edc0-4408-9629-ca1d8c357c5d"
   },
   "outputs": [
    {
     "name": "stdout",
     "output_type": "stream",
     "text": [
      "Average = 499.45475096\n",
      "CPU times: user 6.23 s, sys: 65.1 ms, total: 6.3 s\n",
      "Wall time: 6.3 s\n"
     ]
    }
   ],
   "source": [
    "%%time\n",
    "\n",
    "# using built-ins sum() and len()\n",
    "print(f'Average = {sum(lst)/len(lst)}')"
   ]
  },
  {
   "cell_type": "code",
   "execution_count": null,
   "metadata": {
    "ExecuteTime": {
     "end_time": "2021-03-04T12:50:24.702116Z",
     "start_time": "2021-03-04T12:50:24.675694Z"
    },
    "colab": {
     "base_uri": "https://localhost:8080/"
    },
    "id": "gARWiBzuQBCI",
    "outputId": "3988fb35-70c0-467f-9340-6536f1d3084a"
   },
   "outputs": [
    {
     "name": "stdout",
     "output_type": "stream",
     "text": [
      "Average = 499.45475096\n",
      "CPU times: user 164 ms, sys: 1.14 ms, total: 165 ms\n",
      "Wall time: 166 ms\n"
     ]
    }
   ],
   "source": [
    "%%time\n",
    "\n",
    "# using NumPy\n",
    "print(f'Average = {np.mean(randoms)}')"
   ]
  },
  {
   "cell_type": "markdown",
   "metadata": {
    "id": "tvFmoxxDQBCI"
   },
   "source": [
    "There are only two rules regarding `NumPy` arrays:\n",
    "- every element must be of the same type and size\n",
    "- if an array has arrays, they must match as well\n",
    "\n",
    "Let's see how to create an array and what happens when we start messing with the types and sizes of objects"
   ]
  },
  {
   "cell_type": "code",
   "execution_count": null,
   "metadata": {
    "ExecuteTime": {
     "end_time": "2021-03-04T12:51:56.301681Z",
     "start_time": "2021-03-04T12:51:56.283329Z"
    },
    "colab": {
     "base_uri": "https://localhost:8080/"
    },
    "id": "iHDxPnOaQBCJ",
    "outputId": "f2b0ad1c-b869-4464-e0ee-c200ac839636"
   },
   "outputs": [
    {
     "name": "stdout",
     "output_type": "stream",
     "text": [
      "Shape (sizes of dimensions): (5,)\n",
      "Number of dimensions: 1\n",
      "Length (number of elements): 5\n",
      "Size (number of nested elements): 5\n",
      "Type : <class 'numpy.ndarray'>\n",
      "Data type (type of array elements): int16\n"
     ]
    }
   ],
   "source": [
    "a = np.array([1, 2, 3, 4, 5], dtype=np.int16)\n",
    "\n",
    "print(f'Shape (sizes of dimensions): {a.shape}')\n",
    "print(f'Number of dimensions: {a.ndim}')\n",
    "print(f'Length (number of elements): {len(a)}')\n",
    "print(f'Size (number of nested elements): {a.size}')\n",
    "print(f'Type : {type(a)}')\n",
    "print(f'Data type (type of array elements): {a.dtype}')"
   ]
  },
  {
   "cell_type": "markdown",
   "metadata": {
    "id": "C-7io5FaQBCL"
   },
   "source": [
    "Now let's see how the same descriptors can be applied to a two-dimensional array"
   ]
  },
  {
   "cell_type": "code",
   "execution_count": null,
   "metadata": {
    "ExecuteTime": {
     "end_time": "2021-03-04T12:55:13.741515Z",
     "start_time": "2021-03-04T12:55:13.728336Z"
    },
    "colab": {
     "base_uri": "https://localhost:8080/"
    },
    "id": "fEEoDMN0QBCM",
    "outputId": "7a4b097d-a716-42cf-b788-2a50314b13c7"
   },
   "outputs": [
    {
     "name": "stdout",
     "output_type": "stream",
     "text": [
      "Shape (sizes of dimensions): (2, 5)\n",
      "Number of dimensions: 2\n",
      "Length (number of elements): 2\n",
      "Size (number of nested elements): 10\n",
      "Type : <class 'numpy.ndarray'>\n",
      "Data type (type of array elements): int16\n"
     ]
    }
   ],
   "source": [
    "a = np.array([\n",
    "    [1, 2, 3, 4, 5],\n",
    "    [1, 4, 9, 16, 25]\n",
    "], dtype=np.int16)\n",
    "\n",
    "print(f'Shape (sizes of dimensions): {a.shape}')\n",
    "print(f'Number of dimensions: {a.ndim}')\n",
    "print(f'Length (number of elements): {len(a)}')\n",
    "print(f'Size (number of nested elements): {a.size}')\n",
    "print(f'Type : {type(a)}')\n",
    "print(f'Data type (type of array elements): {a.dtype}')"
   ]
  },
  {
   "cell_type": "markdown",
   "metadata": {
    "id": "MFWLNf-gQBCN"
   },
   "source": [
    "Array elements should be of the same type. Let's see what happens if we mix two types."
   ]
  },
  {
   "cell_type": "code",
   "execution_count": null,
   "metadata": {
    "ExecuteTime": {
     "end_time": "2021-03-04T12:56:18.484257Z",
     "start_time": "2021-03-04T12:56:18.473013Z"
    },
    "colab": {
     "base_uri": "https://localhost:8080/"
    },
    "id": "kjWxkGQgQBCO",
    "outputId": "5b392222-2dc1-45ba-92d8-5f846254f82e"
   },
   "outputs": [
    {
     "data": {
      "text/plain": [
       "array(['1', '2', 'mary', 'had', '2', 'lambs', 'True'], dtype='<U21')"
      ]
     },
     "execution_count": 8,
     "metadata": {},
     "output_type": "execute_result"
    }
   ],
   "source": [
    "a = np.array([1, 2, 'mary', 'had', 2, 'lambs', True])\n",
    "\n",
    "a"
   ]
  },
  {
   "cell_type": "code",
   "execution_count": null,
   "metadata": {
    "ExecuteTime": {
     "end_time": "2021-03-04T12:57:03.692524Z",
     "start_time": "2021-03-04T12:57:03.673507Z"
    },
    "colab": {
     "base_uri": "https://localhost:8080/"
    },
    "id": "bJIenQ6-QBCP",
    "outputId": "c759f15d-bccd-4f98-a66d-bf02b19375ae"
   },
   "outputs": [
    {
     "data": {
      "text/plain": [
       "dtype('<U21')"
      ]
     },
     "execution_count": 9,
     "metadata": {},
     "output_type": "execute_result"
    }
   ],
   "source": [
    "a.dtype"
   ]
  },
  {
   "cell_type": "markdown",
   "metadata": {
    "id": "pkp6A1jCQBCQ"
   },
   "source": [
    "We can also try to modify the length of array's elements"
   ]
  },
  {
   "cell_type": "code",
   "execution_count": null,
   "metadata": {
    "ExecuteTime": {
     "end_time": "2021-03-04T12:57:53.328704Z",
     "start_time": "2021-03-04T12:57:53.322752Z"
    },
    "id": "bT-gmGZgQBCQ"
   },
   "outputs": [],
   "source": [
    "a = np.array(['mary', 'had', 'a', 'little', 'lamb'])"
   ]
  },
  {
   "cell_type": "code",
   "execution_count": null,
   "metadata": {
    "colab": {
     "base_uri": "https://localhost:8080/"
    },
    "id": "vUqj1yPqQBCR",
    "outputId": "518b645b-57db-4cd8-8536-ef88822fc0d1"
   },
   "outputs": [
    {
     "data": {
      "text/plain": [
       "(dtype('<U6'), array(['mary', 'had', 'a', 'little', 'lamb'], dtype='<U6'))"
      ]
     },
     "execution_count": 11,
     "metadata": {},
     "output_type": "execute_result"
    }
   ],
   "source": [
    "a.dtype, a"
   ]
  },
  {
   "cell_type": "code",
   "execution_count": null,
   "metadata": {
    "ExecuteTime": {
     "end_time": "2021-03-04T12:58:21.535252Z",
     "start_time": "2021-03-04T12:58:21.524891Z"
    },
    "colab": {
     "base_uri": "https://localhost:8080/"
    },
    "id": "I1twSdDQQBCS",
    "outputId": "10ecde6f-068d-4f85-ba81-f3dca7200124"
   },
   "outputs": [
    {
     "name": "stdout",
     "output_type": "stream",
     "text": [
      "['mary' 'had' 'a' 'little' 'and ve']\n"
     ]
    }
   ],
   "source": [
    "a[4] = 'and very very very very long snake'\n",
    "\n",
    "print(a)"
   ]
  },
  {
   "cell_type": "markdown",
   "metadata": {
    "id": "dBumAVAAQBCT"
   },
   "source": [
    "After an array has been created, it can be reshaped to whatever shape one desires. A special function is provided for transposing an array (changing rows into columns and vice versa)"
   ]
  },
  {
   "cell_type": "code",
   "execution_count": null,
   "metadata": {
    "ExecuteTime": {
     "end_time": "2021-03-04T13:00:28.784164Z",
     "start_time": "2021-03-04T13:00:28.778418Z"
    },
    "id": "lWwUjxE9QBCU"
   },
   "outputs": [],
   "source": [
    "a = np.array([0,1,2,3,4,5,6,7,8,9,10,11])"
   ]
  },
  {
   "cell_type": "code",
   "execution_count": null,
   "metadata": {
    "colab": {
     "base_uri": "https://localhost:8080/"
    },
    "id": "cm-mdQqOQBCU",
    "outputId": "a7bc5409-d0b5-4a0e-d315-a701cc8d9da7"
   },
   "outputs": [
    {
     "data": {
      "text/plain": [
       "(12,)"
      ]
     },
     "execution_count": 14,
     "metadata": {},
     "output_type": "execute_result"
    }
   ],
   "source": [
    "a.shape"
   ]
  },
  {
   "cell_type": "code",
   "execution_count": null,
   "metadata": {
    "ExecuteTime": {
     "end_time": "2021-03-04T13:00:28.784164Z",
     "start_time": "2021-03-04T13:00:28.778418Z"
    },
    "colab": {
     "base_uri": "https://localhost:8080/"
    },
    "id": "hvCTmLusQBCV",
    "outputId": "f099a7c4-2b91-46c1-aa66-042ea076ad8d"
   },
   "outputs": [
    {
     "data": {
      "text/plain": [
       "array([[ 0,  1,  2,  3,  4,  5,  6,  7,  8,  9, 10, 11]])"
      ]
     },
     "execution_count": 15,
     "metadata": {},
     "output_type": "execute_result"
    }
   ],
   "source": [
    "a.shape = (1, 12)\n",
    "a"
   ]
  },
  {
   "cell_type": "code",
   "execution_count": null,
   "metadata": {
    "id": "D4XVCGP6QBCV"
   },
   "outputs": [],
   "source": [
    "??np.reshape"
   ]
  },
  {
   "cell_type": "code",
   "execution_count": null,
   "metadata": {
    "ExecuteTime": {
     "end_time": "2021-03-04T13:02:28.005978Z",
     "start_time": "2021-03-04T13:02:27.996818Z"
    },
    "colab": {
     "base_uri": "https://localhost:8080/"
    },
    "id": "Yz96dnt3QBCV",
    "outputId": "9f380469-c751-4ad0-e1ca-e9848db863d0"
   },
   "outputs": [
    {
     "data": {
      "text/plain": [
       "array([[ 0,  1,  2,  3],\n",
       "       [ 4,  5,  6,  7],\n",
       "       [ 8,  9, 10, 11]])"
      ]
     },
     "execution_count": 17,
     "metadata": {},
     "output_type": "execute_result"
    }
   ],
   "source": [
    "a = a.reshape(3, 4)\n",
    "\n",
    "a"
   ]
  },
  {
   "cell_type": "code",
   "execution_count": null,
   "metadata": {
    "ExecuteTime": {
     "start_time": "2021-03-04T13:03:51.936Z"
    },
    "colab": {
     "base_uri": "https://localhost:8080/"
    },
    "id": "hgo85dy7QBCW",
    "outputId": "811cfffa-6dc2-47f8-a32f-7fa0cc5e6d4c"
   },
   "outputs": [
    {
     "data": {
      "text/plain": [
       "array([[ 0,  4,  8],\n",
       "       [ 1,  5,  9],\n",
       "       [ 2,  6, 10],\n",
       "       [ 3,  7, 11]])"
      ]
     },
     "execution_count": 18,
     "metadata": {},
     "output_type": "execute_result"
    }
   ],
   "source": [
    "# transposition of an arary\n",
    "\n",
    "a.T"
   ]
  },
  {
   "cell_type": "markdown",
   "metadata": {
    "id": "agqr_7cDQBCW"
   },
   "source": [
    "## Creating arrays\n",
    "\n",
    "The easiest way to create a 1-d array is to use a list. If you want a 2-d array, you use a list of lists. 3-d arrays are created using a list of lists of lists. You get the gist."
   ]
  },
  {
   "cell_type": "code",
   "execution_count": null,
   "metadata": {
    "ExecuteTime": {
     "end_time": "2021-03-04T13:10:43.986631Z",
     "start_time": "2021-03-04T13:10:43.703190Z"
    },
    "id": "MqOOQtfzQBCW"
   },
   "outputs": [],
   "source": [
    "a_1d = np.array([1, 2, 3, 4])\n",
    "\n",
    "a_2d = np.array([\n",
    "    [1, 2, 3, 4],\n",
    "    [1, 4, 9, 16],\n",
    "    [1, 8, 27, 64]\n",
    "])\n",
    "\n",
    "a_3d = np.array([\n",
    "    [\n",
    "        [0, 0],\n",
    "        [0, 1],\n",
    "    ],\n",
    "    [\n",
    "        [1, 0],\n",
    "        [1, 1],\n",
    "    ],\n",
    "])"
   ]
  },
  {
   "cell_type": "code",
   "execution_count": null,
   "metadata": {
    "colab": {
     "base_uri": "https://localhost:8080/"
    },
    "id": "2poWSQhxQBCX",
    "outputId": "af46962d-7b18-4861-8651-3c9f48d1d2dd"
   },
   "outputs": [
    {
     "data": {
      "text/plain": [
       "array([[ 1,  2,  3,  4],\n",
       "       [ 1,  4,  9, 16],\n",
       "       [ 1,  8, 27, 64]])"
      ]
     },
     "execution_count": 21,
     "metadata": {},
     "output_type": "execute_result"
    }
   ],
   "source": [
    "a_2d"
   ]
  },
  {
   "cell_type": "code",
   "execution_count": null,
   "metadata": {
    "colab": {
     "base_uri": "https://localhost:8080/"
    },
    "id": "4TevlVwcTqds",
    "outputId": "b94fa716-58d2-4ff9-a742-40215edbb4a8"
   },
   "outputs": [
    {
     "data": {
      "text/plain": [
       "array([[[0, 0],\n",
       "        [0, 1]],\n",
       "\n",
       "       [[1, 0],\n",
       "        [1, 1]]])"
      ]
     },
     "execution_count": 22,
     "metadata": {},
     "output_type": "execute_result"
    }
   ],
   "source": [
    "a_3d"
   ]
  },
  {
   "cell_type": "markdown",
   "metadata": {
    "id": "YaHQ86zZQBCX"
   },
   "source": [
    "There are utility functions in the `np` module for creating popular types of arrays:\n",
    "- an array filled with zeros\n",
    "- an array filled with ones\n",
    "- an array filled with any value\n",
    "- an array of consecutive (or stepped) values\n",
    "- an array filled with random values\n",
    "- a diagonal array"
   ]
  },
  {
   "cell_type": "code",
   "execution_count": null,
   "metadata": {
    "ExecuteTime": {
     "end_time": "2021-03-04T13:11:23.604189Z",
     "start_time": "2021-03-04T13:11:23.595746Z"
    },
    "colab": {
     "base_uri": "https://localhost:8080/"
    },
    "id": "7AkPFihDQBCX",
    "outputId": "1b15695b-9f79-4fd4-ff4e-ef6bdf76110e"
   },
   "outputs": [
    {
     "data": {
      "text/plain": [
       "array([[0., 0., 0.],\n",
       "       [0., 0., 0.],\n",
       "       [0., 0., 0.]])"
      ]
     },
     "execution_count": 23,
     "metadata": {},
     "output_type": "execute_result"
    }
   ],
   "source": [
    "np.zeros(shape=(3,3))"
   ]
  },
  {
   "cell_type": "code",
   "execution_count": null,
   "metadata": {
    "ExecuteTime": {
     "end_time": "2021-03-03T23:53:47.705059Z",
     "start_time": "2021-03-03T23:53:47.701794Z"
    },
    "colab": {
     "base_uri": "https://localhost:8080/"
    },
    "id": "nB5KuCPiQBCY",
    "outputId": "1e7fac97-a22a-46b4-d5ba-5d0e151655f0"
   },
   "outputs": [
    {
     "data": {
      "text/plain": [
       "array([[0., 0., 0., 0., 0.],\n",
       "       [0., 0., 0., 0., 0.],\n",
       "       [0., 0., 0., 0., 0.]])"
      ]
     },
     "execution_count": 24,
     "metadata": {},
     "output_type": "execute_result"
    }
   ],
   "source": [
    "np.zeros(shape=(3,5))"
   ]
  },
  {
   "cell_type": "code",
   "execution_count": null,
   "metadata": {
    "ExecuteTime": {
     "end_time": "2021-03-04T13:11:45.001157Z",
     "start_time": "2021-03-04T13:11:44.993958Z"
    },
    "colab": {
     "base_uri": "https://localhost:8080/"
    },
    "id": "tValOu7sQBCY",
    "outputId": "17a7ea62-7425-42fd-8a64-dec501d8946f"
   },
   "outputs": [
    {
     "data": {
      "text/plain": [
       "array([[[1, 1, 1],\n",
       "        [1, 1, 1]],\n",
       "\n",
       "       [[1, 1, 1],\n",
       "        [1, 1, 1]],\n",
       "\n",
       "       [[1, 1, 1],\n",
       "        [1, 1, 1]]], dtype=int16)"
      ]
     },
     "execution_count": 25,
     "metadata": {},
     "output_type": "execute_result"
    }
   ],
   "source": [
    "np.ones((3,2,3), dtype=np.int16)"
   ]
  },
  {
   "cell_type": "code",
   "execution_count": null,
   "metadata": {
    "ExecuteTime": {
     "end_time": "2021-03-04T13:12:26.368482Z",
     "start_time": "2021-03-04T13:12:26.361206Z"
    },
    "colab": {
     "base_uri": "https://localhost:8080/"
    },
    "id": "PHuCbwvVQBCY",
    "outputId": "a7106477-9907-42bf-9cd0-cf9e6572784d"
   },
   "outputs": [
    {
     "data": {
      "text/plain": [
       "array([['mary had a little lamb', 'mary had a little lamb'],\n",
       "       ['mary had a little lamb', 'mary had a little lamb'],\n",
       "       ['mary had a little lamb', 'mary had a little lamb'],\n",
       "       ['mary had a little lamb', 'mary had a little lamb']], dtype='<U22')"
      ]
     },
     "execution_count": 26,
     "metadata": {},
     "output_type": "execute_result"
    }
   ],
   "source": [
    "np.full(shape=(4,2), fill_value='mary had a little lamb')"
   ]
  },
  {
   "cell_type": "code",
   "execution_count": null,
   "metadata": {
    "ExecuteTime": {
     "end_time": "2021-03-04T13:12:46.553556Z",
     "start_time": "2021-03-04T13:12:46.538365Z"
    },
    "id": "_Tv5nUnAQBCZ"
   },
   "outputs": [],
   "source": [
    "??np.arange"
   ]
  },
  {
   "cell_type": "code",
   "execution_count": null,
   "metadata": {
    "ExecuteTime": {
     "end_time": "2021-03-04T13:13:11.553100Z",
     "start_time": "2021-03-04T13:13:11.533041Z"
    },
    "colab": {
     "base_uri": "https://localhost:8080/"
    },
    "id": "_p1fXZtwQBCd",
    "outputId": "aaef4301-70af-43e4-df8c-a77f16f1737a"
   },
   "outputs": [
    {
     "data": {
      "text/plain": [
       "array([-2. , -1.5, -1. , -0.5,  0. ,  0.5,  1. ,  1.5])"
      ]
     },
     "execution_count": 28,
     "metadata": {},
     "output_type": "execute_result"
    }
   ],
   "source": [
    "np.arange(-2, 2, 0.5)"
   ]
  },
  {
   "cell_type": "code",
   "execution_count": null,
   "metadata": {
    "id": "qdzIeUx7QBCe"
   },
   "outputs": [],
   "source": [
    "??np.random.randn"
   ]
  },
  {
   "cell_type": "code",
   "execution_count": null,
   "metadata": {
    "ExecuteTime": {
     "end_time": "2021-03-04T13:13:37.060198Z",
     "start_time": "2021-03-04T13:13:37.052684Z"
    },
    "colab": {
     "base_uri": "https://localhost:8080/"
    },
    "id": "PRO4Gjr5QBCe",
    "outputId": "0462c037-3a2d-49e6-ea9d-b0921dde435f"
   },
   "outputs": [
    {
     "data": {
      "text/plain": [
       "array([[-0.09835524,  0.74256145,  0.72924745],\n",
       "       [-0.35292437, -0.2936036 ,  0.39275918],\n",
       "       [ 0.40282911,  0.65515722, -0.70974567]])"
      ]
     },
     "execution_count": 34,
     "metadata": {},
     "output_type": "execute_result"
    }
   ],
   "source": [
    "np.random.randn(3, 3)"
   ]
  },
  {
   "cell_type": "code",
   "execution_count": null,
   "metadata": {
    "ExecuteTime": {
     "end_time": "2021-03-04T13:14:20.406628Z",
     "start_time": "2021-03-04T13:14:20.399730Z"
    },
    "colab": {
     "base_uri": "https://localhost:8080/"
    },
    "id": "NVAsw5wyQBCf",
    "outputId": "4b446bf8-7e3e-4351-fc26-3da4098f37bc"
   },
   "outputs": [
    {
     "data": {
      "text/plain": [
       "array([[3, 5, 3],\n",
       "       [6, 1, 6],\n",
       "       [3, 3, 1]])"
      ]
     },
     "execution_count": 31,
     "metadata": {},
     "output_type": "execute_result"
    }
   ],
   "source": [
    "np.random.randint(low=1, high=7, size=(3,3))"
   ]
  },
  {
   "cell_type": "code",
   "execution_count": null,
   "metadata": {
    "ExecuteTime": {
     "end_time": "2021-03-04T13:14:39.501768Z",
     "start_time": "2021-03-04T13:14:39.491009Z"
    },
    "colab": {
     "base_uri": "https://localhost:8080/"
    },
    "id": "eouJjBigQBCf",
    "outputId": "9620c3e9-f18c-4eb1-cb76-9625bfcd06d1"
   },
   "outputs": [
    {
     "data": {
      "text/plain": [
       "array([[1., 0., 0., 0., 0.],\n",
       "       [0., 1., 0., 0., 0.],\n",
       "       [0., 0., 1., 0., 0.],\n",
       "       [0., 0., 0., 1., 0.],\n",
       "       [0., 0., 0., 0., 1.]])"
      ]
     },
     "execution_count": 32,
     "metadata": {},
     "output_type": "execute_result"
    }
   ],
   "source": [
    "np.eye(5)"
   ]
  },
  {
   "cell_type": "code",
   "execution_count": null,
   "metadata": {
    "ExecuteTime": {
     "end_time": "2021-03-04T13:14:59.335926Z",
     "start_time": "2021-03-04T13:14:59.328609Z"
    },
    "colab": {
     "base_uri": "https://localhost:8080/"
    },
    "id": "XV0KrBnYQBCf",
    "outputId": "0205370f-68f8-45e9-febe-779696467883"
   },
   "outputs": [
    {
     "data": {
      "text/plain": [
       "array([[1., 0., 0., 0., 0., 0., 0., 0.],\n",
       "       [0., 1., 0., 0., 0., 0., 0., 0.],\n",
       "       [0., 0., 1., 0., 0., 0., 0., 0.],\n",
       "       [0., 0., 0., 1., 0., 0., 0., 0.],\n",
       "       [0., 0., 0., 0., 1., 0., 0., 0.]])"
      ]
     },
     "execution_count": 33,
     "metadata": {},
     "output_type": "execute_result"
    }
   ],
   "source": [
    "np.eye(5, 8)"
   ]
  },
  {
   "cell_type": "markdown",
   "metadata": {
    "id": "18PnuYAtQBCf"
   },
   "source": [
    "## Indexing arrays\n",
    "\n",
    "Arrays in `NumPy` are 0-indexed. Indexing of 1-d arrays is very easy, just follow the pattern of *start*:*end*:*step*"
   ]
  },
  {
   "cell_type": "code",
   "execution_count": null,
   "metadata": {
    "ExecuteTime": {
     "end_time": "2021-03-04T13:16:20.626180Z",
     "start_time": "2021-03-04T13:16:20.615565Z"
    },
    "colab": {
     "base_uri": "https://localhost:8080/"
    },
    "id": "z-pWUi-2QBCg",
    "outputId": "fe91d0c5-4618-4a09-a52b-b30a0a3bf9ba"
   },
   "outputs": [
    {
     "name": "stdout",
     "output_type": "stream",
     "text": [
      "Full array: [0 1 2 3 4 5 6 7 8 9]\n",
      "First element: 0\n",
      "First three elements: [0 1 2]\n",
      "Last element: 9 and 9\n",
      "Even elements: [0 2 4 6 8]\n"
     ]
    }
   ],
   "source": [
    "a = np.arange(0, 10)\n",
    "\n",
    "print(f'Full array: {a}')\n",
    "print(f'First element: {a[0]}')\n",
    "print(f'First three elements: {a[0:3]}')\n",
    "print(f'Last element: {a[len(a)-1]} and {a[-1]}')\n",
    "print(f'Even elements: {a[::2]}')"
   ]
  },
  {
   "cell_type": "markdown",
   "metadata": {
    "id": "KmoTmEDcQBCg"
   },
   "source": [
    "Indexing of n-dim arrays is a bit more tricky. Keep in mind that axis 0 refers to rows and axis 1 refers to columns. For high dimensional arrays try to build the following intuition:\n",
    "- 1-d: a row of values\n",
    "- 2-d: a matrix (rows and columns) of values\n",
    "- 3-d: a row of arrays\n",
    "- 4-d: a matrix of arrays\n",
    "- and so on..."
   ]
  },
  {
   "cell_type": "code",
   "execution_count": null,
   "metadata": {
    "ExecuteTime": {
     "end_time": "2021-03-04T13:18:21.877530Z",
     "start_time": "2021-03-04T13:18:21.866842Z"
    },
    "colab": {
     "base_uri": "https://localhost:8080/"
    },
    "id": "3AGPiMfIQBCg",
    "outputId": "acf8a3b1-e7c7-4af2-9a3a-f86b2c5c8150"
   },
   "outputs": [
    {
     "name": "stdout",
     "output_type": "stream",
     "text": [
      "[[  1   2   3   4]\n",
      " [ 10  20  30  40]\n",
      " [100 200 300 400]]\n",
      "Element at second row, third column: 30\n",
      "Entire first row: [1 2 3 4]\n",
      "Entire first row as 2-d array: [[1 2 3 4]]\n",
      "First and second rows, last column: [ 4 40]\n"
     ]
    }
   ],
   "source": [
    "a = np.array([\n",
    "    [1, 2, 3, 4],\n",
    "    [10, 20, 30, 40],\n",
    "    [100, 200, 300, 400],\n",
    "])\n",
    "\n",
    "print(a)\n",
    "\n",
    "print(f'Element at second row, third column: {a[1,2]}')\n",
    "print(f'Entire first row: {a[0,]}')\n",
    "print(f'Entire first row as 2-d array: {a[0, None]}')\n",
    "print(f'First and second rows, last column: {a[:2,-1]}')\n"
   ]
  },
  {
   "cell_type": "markdown",
   "metadata": {
    "id": "mnEGX-PEQBCh"
   },
   "source": [
    "The same goes with all n-dim arrays. For instance, let's extract first matrix, all rows, first column. You can also use indexing to assign multiple values to array cell at once."
   ]
  },
  {
   "cell_type": "code",
   "execution_count": null,
   "metadata": {
    "ExecuteTime": {
     "end_time": "2021-03-04T13:20:16.240846Z",
     "start_time": "2021-03-04T13:20:16.234427Z"
    },
    "colab": {
     "base_uri": "https://localhost:8080/"
    },
    "id": "nDLvSTAdQBCh",
    "outputId": "f3577af4-f884-44a9-8a52-6d6326652342"
   },
   "outputs": [
    {
     "data": {
      "text/plain": [
       "array([[[0, 0],\n",
       "        [0, 1]],\n",
       "\n",
       "       [[1, 0],\n",
       "        [1, 1]]])"
      ]
     },
     "execution_count": 37,
     "metadata": {},
     "output_type": "execute_result"
    }
   ],
   "source": [
    "a_3d"
   ]
  },
  {
   "cell_type": "code",
   "execution_count": null,
   "metadata": {
    "colab": {
     "base_uri": "https://localhost:8080/"
    },
    "id": "IcCrqS0YVwbe",
    "outputId": "1a9bcd85-1f1e-4942-89d2-6be6d778b2cf"
   },
   "outputs": [
    {
     "data": {
      "text/plain": [
       "(2, 2, 2)"
      ]
     },
     "execution_count": 40,
     "metadata": {},
     "output_type": "execute_result"
    }
   ],
   "source": [
    "a_3d.shape"
   ]
  },
  {
   "cell_type": "code",
   "execution_count": null,
   "metadata": {
    "ExecuteTime": {
     "end_time": "2021-03-04T13:20:57.303804Z",
     "start_time": "2021-03-04T13:20:57.290046Z"
    },
    "colab": {
     "base_uri": "https://localhost:8080/"
    },
    "id": "dRvwU2ZFQBCh",
    "outputId": "9e7d5f0d-f598-4d81-8b0a-522d8bca4898"
   },
   "outputs": [
    {
     "data": {
      "text/plain": [
       "array([1, 1])"
      ]
     },
     "execution_count": 38,
     "metadata": {},
     "output_type": "execute_result"
    }
   ],
   "source": [
    "a_3d[1, :, 0]"
   ]
  },
  {
   "cell_type": "code",
   "execution_count": null,
   "metadata": {
    "ExecuteTime": {
     "end_time": "2021-03-04T13:21:21.940140Z",
     "start_time": "2021-03-04T13:21:21.936109Z"
    },
    "colab": {
     "base_uri": "https://localhost:8080/"
    },
    "id": "gkBgIZ7wQBCh",
    "outputId": "b0d757aa-002f-4bfe-90c0-996c59e56e65"
   },
   "outputs": [
    {
     "name": "stdout",
     "output_type": "stream",
     "text": [
      "[[[ 0  0]\n",
      "  [ 0  1]]\n",
      "\n",
      " [[ 1 -1]\n",
      "  [ 1 -1]]]\n"
     ]
    }
   ],
   "source": [
    "a_3d[1, :, 1] = -1\n",
    "\n",
    "print(a_3d)"
   ]
  },
  {
   "cell_type": "markdown",
   "metadata": {
    "id": "Xjzj2O2NQBCi"
   },
   "source": [
    "## Basic operations on arrays\n",
    "\n",
    "All array operations are vectorized, so they tend to be very quick. By default, `NumPy` performs element-wise array operations. If you want to correctly multiply arrays, use `@` operator as shown below."
   ]
  },
  {
   "cell_type": "code",
   "execution_count": null,
   "metadata": {
    "ExecuteTime": {
     "end_time": "2021-03-04T13:22:29.144487Z",
     "start_time": "2021-03-04T13:22:29.139066Z"
    },
    "id": "oWcA0TBrQBCi"
   },
   "outputs": [],
   "source": [
    "a = np.arange(0, 12)\n",
    "b = np.arange(12, 24)\n",
    "\n",
    "a.shape = b.shape = 3, 4"
   ]
  },
  {
   "cell_type": "code",
   "execution_count": null,
   "metadata": {
    "ExecuteTime": {
     "end_time": "2021-03-04T13:22:48.461576Z",
     "start_time": "2021-03-04T13:22:48.455160Z"
    },
    "colab": {
     "base_uri": "https://localhost:8080/"
    },
    "id": "PO-p0eveQBCi",
    "outputId": "0f25a639-b492-4b75-e0de-485c284761e9"
   },
   "outputs": [
    {
     "data": {
      "text/plain": [
       "array([[ 0,  1,  2,  3],\n",
       "       [ 4,  5,  6,  7],\n",
       "       [ 8,  9, 10, 11]])"
      ]
     },
     "execution_count": 42,
     "metadata": {},
     "output_type": "execute_result"
    }
   ],
   "source": [
    "a"
   ]
  },
  {
   "cell_type": "code",
   "execution_count": null,
   "metadata": {
    "ExecuteTime": {
     "end_time": "2021-03-04T13:23:07.434526Z",
     "start_time": "2021-03-04T13:23:07.425287Z"
    },
    "colab": {
     "base_uri": "https://localhost:8080/"
    },
    "id": "Rd0IS94pQBCj",
    "outputId": "198456e7-0314-4058-92f4-073b83fb3c7f"
   },
   "outputs": [
    {
     "data": {
      "text/plain": [
       "array([[12, 13, 14, 15],\n",
       "       [16, 17, 18, 19],\n",
       "       [20, 21, 22, 23]])"
      ]
     },
     "execution_count": 43,
     "metadata": {},
     "output_type": "execute_result"
    }
   ],
   "source": [
    "b"
   ]
  },
  {
   "cell_type": "code",
   "execution_count": null,
   "metadata": {
    "ExecuteTime": {
     "end_time": "2021-03-04T13:23:28.286320Z",
     "start_time": "2021-03-04T13:23:28.278655Z"
    },
    "colab": {
     "base_uri": "https://localhost:8080/"
    },
    "id": "TLwGFwtuQBCj",
    "outputId": "34be24eb-e383-41f6-8e28-a9107102d51f"
   },
   "outputs": [
    {
     "data": {
      "text/plain": [
       "array([[12, 14, 16, 18],\n",
       "       [20, 22, 24, 26],\n",
       "       [28, 30, 32, 34]])"
      ]
     },
     "execution_count": 44,
     "metadata": {},
     "output_type": "execute_result"
    }
   ],
   "source": [
    "a + b"
   ]
  },
  {
   "cell_type": "code",
   "execution_count": null,
   "metadata": {
    "ExecuteTime": {
     "end_time": "2021-03-04T00:22:14.920011Z",
     "start_time": "2021-03-04T00:22:14.917144Z"
    },
    "colab": {
     "base_uri": "https://localhost:8080/"
    },
    "id": "oJYkWGX6QBCj",
    "outputId": "9a479457-3bef-4efb-9148-d2009cb37474"
   },
   "outputs": [
    {
     "data": {
      "text/plain": [
       "array([[12, 12, 12, 12],\n",
       "       [12, 12, 12, 12],\n",
       "       [12, 12, 12, 12]])"
      ]
     },
     "execution_count": 45,
     "metadata": {},
     "output_type": "execute_result"
    }
   ],
   "source": [
    "b - a"
   ]
  },
  {
   "cell_type": "code",
   "execution_count": null,
   "metadata": {
    "ExecuteTime": {
     "end_time": "2021-03-04T13:23:49.057702Z",
     "start_time": "2021-03-04T13:23:49.047245Z"
    },
    "colab": {
     "base_uri": "https://localhost:8080/"
    },
    "id": "tEHbUlimQBCj",
    "outputId": "d67dc215-8ef5-470f-9254-7607128ab982"
   },
   "outputs": [
    {
     "data": {
      "text/plain": [
       "array([[10, 11, 12, 13],\n",
       "       [14, 15, 16, 17],\n",
       "       [18, 19, 20, 21]])"
      ]
     },
     "execution_count": 46,
     "metadata": {},
     "output_type": "execute_result"
    }
   ],
   "source": [
    "a + 10"
   ]
  },
  {
   "cell_type": "code",
   "execution_count": null,
   "metadata": {
    "colab": {
     "base_uri": "https://localhost:8080/"
    },
    "id": "-k4ddzqXQBCk",
    "outputId": "832a1a05-2459-4b2f-e2ec-734ae778c51b"
   },
   "outputs": [
    {
     "data": {
      "text/plain": [
       "((3, 4), (3, 4))"
      ]
     },
     "execution_count": 47,
     "metadata": {},
     "output_type": "execute_result"
    }
   ],
   "source": [
    "a.shape, b.shape"
   ]
  },
  {
   "cell_type": "code",
   "execution_count": null,
   "metadata": {
    "ExecuteTime": {
     "end_time": "2021-03-04T13:24:31.691102Z",
     "start_time": "2021-03-04T13:24:31.599197Z"
    },
    "colab": {
     "base_uri": "https://localhost:8080/"
    },
    "id": "HT3s1XjRQBCk",
    "outputId": "62b96a69-8811-4e65-929e-087ab9c8d91c"
   },
   "outputs": [
    {
     "data": {
      "text/plain": [
       "array([[ 86, 110, 134],\n",
       "       [302, 390, 478],\n",
       "       [518, 670, 822]])"
      ]
     },
     "execution_count": 48,
     "metadata": {},
     "output_type": "execute_result"
    }
   ],
   "source": [
    "a @ b.T "
   ]
  },
  {
   "cell_type": "markdown",
   "metadata": {
    "id": "pZa52afqQBCk"
   },
   "source": [
    "## Exercises"
   ]
  },
  {
   "cell_type": "markdown",
   "metadata": {
    "id": "jMLAC9ARQBCl"
   },
   "source": [
    "### Calculating sliding averages\n",
    "\n",
    "Given an array of daily measurements, create a new array with averages computed over each pair of consecutive days"
   ]
  },
  {
   "cell_type": "code",
   "execution_count": null,
   "metadata": {
    "ExecuteTime": {
     "end_time": "2021-03-04T13:31:26.704866Z",
     "start_time": "2021-03-04T13:31:26.701305Z"
    },
    "colab": {
     "base_uri": "https://localhost:8080/"
    },
    "id": "4S0ihCgNQBCl",
    "outputId": "9c96a1fe-b579-49cb-9aa3-ddbe3c3edd92"
   },
   "outputs": [
    {
     "data": {
      "text/plain": [
       "array([ 0.5,  1.5,  2.5,  3.5,  4.5,  5.5,  6.5,  7.5,  8.5,  9.5, 10.5,\n",
       "       11.5, 12.5, 13.5, 14.5, 15.5, 16.5, 17.5, 18.5, 19.5, 20.5, 21.5,\n",
       "       22.5, 23.5, 24.5, 25.5, 26.5, 27.5, 28.5, 29.5, 30.5, 31.5, 32.5,\n",
       "       33.5, 34.5, 35.5, 36.5, 37.5, 38.5, 39.5, 40.5, 41.5, 42.5, 43.5,\n",
       "       44.5, 45.5, 46.5, 47.5, 48.5, 49.5, 50.5, 51.5, 52.5, 53.5, 54.5,\n",
       "       55.5, 56.5, 57.5, 58.5, 59.5, 60.5, 61.5, 62.5, 63.5, 64.5, 65.5,\n",
       "       66.5, 67.5, 68.5, 69.5, 70.5, 71.5, 72.5, 73.5, 74.5, 75.5, 76.5,\n",
       "       77.5, 78.5, 79.5, 80.5, 81.5, 82.5, 83.5, 84.5, 85.5, 86.5, 87.5,\n",
       "       88.5, 89.5, 90.5, 91.5, 92.5, 93.5, 94.5, 95.5, 96.5, 97.5, 98.5])"
      ]
     },
     "execution_count": 3,
     "metadata": {},
     "output_type": "execute_result"
    }
   ],
   "source": [
    "measurements = np.arange(100)\n",
    "(measurements[:-1] + measurements[1:]) / 2"
   ]
  },
  {
   "cell_type": "code",
   "execution_count": null,
   "metadata": {
    "colab": {
     "base_uri": "https://localhost:8080/"
    },
    "id": "Xb93RkFRaUuW",
    "outputId": "5d2f04c4-6ab0-40f7-c86a-939d9510ac14"
   },
   "outputs": [
    {
     "name": "stdout",
     "output_type": "stream",
     "text": [
      "[0.5, 1.5, 2.5, 3.5, 4.5, 5.5, 6.5, 7.5, 8.5, 9.5, 10.5, 11.5, 12.5, 13.5, 14.5, 15.5, 16.5, 17.5, 18.5, 19.5, 20.5, 21.5, 22.5, 23.5, 24.5, 25.5, 26.5, 27.5, 28.5, 29.5, 30.5, 31.5, 32.5, 33.5, 34.5, 35.5, 36.5, 37.5, 38.5, 39.5, 40.5, 41.5, 42.5, 43.5, 44.5, 45.5, 46.5, 47.5, 48.5, 49.5, 50.5, 51.5, 52.5, 53.5, 54.5, 55.5, 56.5, 57.5, 58.5, 59.5, 60.5, 61.5, 62.5, 63.5, 64.5, 65.5, 66.5, 67.5, 68.5, 69.5, 70.5, 71.5, 72.5, 73.5, 74.5, 75.5, 76.5, 77.5, 78.5, 79.5, 80.5, 81.5, 82.5, 83.5, 84.5, 85.5, 86.5, 87.5, 88.5, 89.5, 90.5, 91.5, 92.5, 93.5, 94.5, 95.5, 96.5, 97.5, 98.5]\n"
     ]
    }
   ],
   "source": [
    "measurements = np.arange(100)\n",
    "averages = []\n",
    "for i in range(1, len(measurements)):\n",
    "  averages.append((measurements[i-1] + measurements[i]) / 2)\n",
    "print(averages)"
   ]
  },
  {
   "cell_type": "markdown",
   "metadata": {
    "id": "oJnVohZhQBCl"
   },
   "source": [
    "### Battleships\n",
    "\n",
    "Given a 10x10 playing field with hidden battleships and a list of shooting targets, compute the number of hits."
   ]
  },
  {
   "cell_type": "code",
   "execution_count": null,
   "metadata": {
    "ExecuteTime": {
     "end_time": "2021-03-04T13:25:41.276190Z",
     "start_time": "2021-03-04T13:25:41.262747Z"
    },
    "colab": {
     "base_uri": "https://localhost:8080/"
    },
    "id": "HIt0xrQpQBCm",
    "outputId": "5e8c89f5-c939-4986-f00a-b19ddf6271e6"
   },
   "outputs": [
    {
     "data": {
      "text/plain": [
       "array([[1, 0, 0, 1, 0, 1, 0, 1, 0, 0],\n",
       "       [0, 0, 0, 0, 1, 1, 0, 1, 0, 0],\n",
       "       [1, 0, 1, 0, 0, 1, 0, 0, 0, 1],\n",
       "       [0, 1, 0, 1, 0, 0, 1, 0, 0, 1],\n",
       "       [0, 1, 1, 0, 0, 0, 0, 1, 1, 1],\n",
       "       [0, 0, 0, 1, 0, 0, 0, 0, 0, 0],\n",
       "       [1, 1, 1, 1, 1, 0, 1, 1, 1, 1],\n",
       "       [0, 0, 1, 0, 1, 1, 1, 0, 1, 1],\n",
       "       [1, 1, 0, 1, 1, 0, 0, 1, 1, 1],\n",
       "       [0, 1, 1, 0, 1, 0, 1, 0, 1, 1]])"
      ]
     },
     "execution_count": 49,
     "metadata": {},
     "output_type": "execute_result"
    }
   ],
   "source": [
    "sea = np.random.randint(low=0, high=2, size=(10,10))\n",
    "\n",
    "sea"
   ]
  },
  {
   "cell_type": "code",
   "execution_count": null,
   "metadata": {
    "ExecuteTime": {
     "end_time": "2021-03-04T13:32:47.465378Z",
     "start_time": "2021-03-04T13:32:47.447322Z"
    },
    "colab": {
     "base_uri": "https://localhost:8080/"
    },
    "id": "c6EnJlOXQBCm",
    "outputId": "342f672b-94bf-44cd-8203-d071017430c2"
   },
   "outputs": [
    {
     "name": "stdout",
     "output_type": "stream",
     "text": [
      "3\n"
     ]
    }
   ],
   "source": [
    "targets = np.array([\n",
    "    [0,3],\n",
    "    [1,7],\n",
    "    [2,2],\n",
    "    [3,5],\n",
    "    [8,2]\n",
    "])\n",
    "hits = 0\n",
    "for i in range(len(targets)):\n",
    "  if sea[targets[i, 0], targets[i, 1]] == 1:\n",
    "    hits += 1\n",
    "\n",
    "print(hits)"
   ]
  },
  {
   "cell_type": "code",
   "execution_count": null,
   "metadata": {
    "colab": {
     "base_uri": "https://localhost:8080/"
    },
    "id": "EElAMuwUYx_m",
    "outputId": "f72063d5-9147-423a-fdf2-c234e4bcb6ef"
   },
   "outputs": [
    {
     "data": {
      "text/plain": [
       "3"
      ]
     },
     "execution_count": 58,
     "metadata": {},
     "output_type": "execute_result"
    }
   ],
   "source": [
    "sea[targets[:, 0], targets[:, 1]].sum()"
   ]
  },
  {
   "cell_type": "markdown",
   "metadata": {
    "id": "jHvFsQvFQBCm"
   },
   "source": [
    "## Broadcasting\n",
    "\n",
    "This is by far the most important concept in `NumPy`. Broadcasting is an automatic expansion of arrays so that they match with their operands.\n",
    "\n",
    "Let's start with the simplest example."
   ]
  },
  {
   "cell_type": "code",
   "execution_count": null,
   "metadata": {
    "ExecuteTime": {
     "end_time": "2021-03-04T13:35:17.704786Z",
     "start_time": "2021-03-04T13:35:17.686981Z"
    },
    "colab": {
     "base_uri": "https://localhost:8080/"
    },
    "id": "ozkjg2q9QBCn",
    "outputId": "b7e39639-d59e-4709-d241-c7f99786525a"
   },
   "outputs": [
    {
     "data": {
      "text/plain": [
       "array([10, 11, 12, 13, 14, 15, 16, 17, 18, 19])"
      ]
     },
     "execution_count": 69,
     "metadata": {},
     "output_type": "execute_result"
    }
   ],
   "source": [
    "a = np.arange(10)\n",
    "\n",
    "a + 10"
   ]
  },
  {
   "cell_type": "markdown",
   "metadata": {
    "id": "iQHnY2TtQBCn"
   },
   "source": [
    "The same happens for 2-d arrays"
   ]
  },
  {
   "cell_type": "code",
   "execution_count": null,
   "metadata": {
    "ExecuteTime": {
     "end_time": "2021-03-04T13:36:11.473371Z",
     "start_time": "2021-03-04T13:36:11.467333Z"
    },
    "id": "RRjEnf_hQBCn"
   },
   "outputs": [],
   "source": [
    "a = np.array([\n",
    "    [1, 2, 3, 4],\n",
    "    [1, 4, 9, 16],\n",
    "])\n",
    "\n",
    "b = np.array([\n",
    "    [0.1, 0.2]]\n",
    ")"
   ]
  },
  {
   "cell_type": "code",
   "execution_count": null,
   "metadata": {
    "colab": {
     "base_uri": "https://localhost:8080/"
    },
    "id": "QxGqrtGsZjzK",
    "outputId": "4edca9ec-8725-463e-ea11-9e2bc279c46c"
   },
   "outputs": [
    {
     "data": {
      "text/plain": [
       "array([[ 1,  2,  3,  4],\n",
       "       [ 1,  4,  9, 16]])"
      ]
     },
     "execution_count": 63,
     "metadata": {},
     "output_type": "execute_result"
    }
   ],
   "source": [
    "a"
   ]
  },
  {
   "cell_type": "code",
   "execution_count": null,
   "metadata": {
    "colab": {
     "base_uri": "https://localhost:8080/"
    },
    "id": "NXWFp_xnZnMj",
    "outputId": "ea4e41f1-1b54-475b-99bf-053803c67947"
   },
   "outputs": [
    {
     "data": {
      "text/plain": [
       "array([[0.1, 0.2]])"
      ]
     },
     "execution_count": 64,
     "metadata": {},
     "output_type": "execute_result"
    }
   ],
   "source": [
    "b"
   ]
  },
  {
   "cell_type": "code",
   "execution_count": null,
   "metadata": {
    "colab": {
     "base_uri": "https://localhost:8080/"
    },
    "id": "kn4Bb57LZrXk",
    "outputId": "15a65077-c107-4dcb-93aa-f0f5c9210460"
   },
   "outputs": [
    {
     "data": {
      "text/plain": [
       "array([[0.1],\n",
       "       [0.2]])"
      ]
     },
     "execution_count": 65,
     "metadata": {},
     "output_type": "execute_result"
    }
   ],
   "source": [
    "b.T"
   ]
  },
  {
   "cell_type": "code",
   "execution_count": null,
   "metadata": {
    "colab": {
     "base_uri": "https://localhost:8080/"
    },
    "id": "5Q6WVcymQBCn",
    "outputId": "8dc50d26-c412-4e8b-a167-e7bfa3ae45cb"
   },
   "outputs": [
    {
     "data": {
      "text/plain": [
       "((2, 4), (2, 1))"
      ]
     },
     "execution_count": 61,
     "metadata": {},
     "output_type": "execute_result"
    }
   ],
   "source": [
    "a.shape, b.T.shape"
   ]
  },
  {
   "cell_type": "code",
   "execution_count": null,
   "metadata": {
    "ExecuteTime": {
     "end_time": "2021-03-04T13:37:13.042712Z",
     "start_time": "2021-03-04T13:37:13.034225Z"
    },
    "colab": {
     "base_uri": "https://localhost:8080/"
    },
    "id": "M0TEFySuQBCo",
    "outputId": "c5ef80b4-1fb0-4092-98f2-ff5811f459e4"
   },
   "outputs": [
    {
     "data": {
      "text/plain": [
       "array([[ 1.1,  2.1,  3.1,  4.1],\n",
       "       [ 1.2,  4.2,  9.2, 16.2]])"
      ]
     },
     "execution_count": 62,
     "metadata": {},
     "output_type": "execute_result"
    }
   ],
   "source": [
    "a + b.T"
   ]
  },
  {
   "cell_type": "markdown",
   "metadata": {
    "id": "atT8aTHrQBCo"
   },
   "source": [
    "The simple rule for broadcasting is the following:\n",
    "\n",
    "If we want to operate on two arrays `a` and `b`:\n",
    "- moving backwards from the last dimension of each array, we check if their dimensions are the same or one equals 1\n",
    "- if all of `a`'s dimensions are compatible with `b`'s dimensions, arrays `a` and `b` are compatible."
   ]
  },
  {
   "cell_type": "code",
   "execution_count": null,
   "metadata": {
    "ExecuteTime": {
     "end_time": "2021-03-04T13:38:54.057306Z",
     "start_time": "2021-03-04T13:38:54.047873Z"
    },
    "colab": {
     "base_uri": "https://localhost:8080/"
    },
    "id": "wMnHNglUQBCo",
    "outputId": "3d75fb21-0c11-4b23-90be-c970958bda6a"
   },
   "outputs": [
    {
     "name": "stdout",
     "output_type": "stream",
     "text": [
      "[[4 7 6 5]\n",
      " [9 2 8 7]\n",
      " [9 1 6 1]]\n",
      "[[7]\n",
      " [3]\n",
      " [1]]\n"
     ]
    }
   ],
   "source": [
    "np.random.seed(1234)\n",
    "\n",
    "a = np.random.randint(low = 1, high = 10, size = (3, 4))\n",
    "print(a)\n",
    "\n",
    "b = np.random.randint(low = 1, high = 10, size = (3, 1))\n",
    "print(b)"
   ]
  },
  {
   "cell_type": "code",
   "execution_count": null,
   "metadata": {
    "ExecuteTime": {
     "end_time": "2021-03-04T13:39:40.655864Z",
     "start_time": "2021-03-04T13:39:40.649136Z"
    },
    "colab": {
     "base_uri": "https://localhost:8080/"
    },
    "id": "H7nUhs4bQBCp",
    "outputId": "cd52261b-bcf0-4457-f842-9334055b2845"
   },
   "outputs": [
    {
     "data": {
      "text/plain": [
       "array([[11, 14, 13, 12],\n",
       "       [12,  5, 11, 10],\n",
       "       [10,  2,  7,  2]])"
      ]
     },
     "execution_count": 68,
     "metadata": {},
     "output_type": "execute_result"
    }
   ],
   "source": [
    "a + b"
   ]
  },
  {
   "cell_type": "code",
   "execution_count": null,
   "metadata": {
    "ExecuteTime": {
     "end_time": "2021-03-04T13:40:26.857657Z",
     "start_time": "2021-03-04T13:40:26.842121Z"
    },
    "colab": {
     "base_uri": "https://localhost:8080/"
    },
    "id": "iklo7OWlQBCp",
    "outputId": "cf8e4022-adeb-4b78-b79c-ec74dbd6d497"
   },
   "outputs": [
    {
     "name": "stdout",
     "output_type": "stream",
     "text": [
      "[[[4 7 6 5]]\n",
      "\n",
      " [[9 2 8 7]]\n",
      "\n",
      " [[9 1 6 1]]]\n",
      "[[7]\n",
      " [3]]\n"
     ]
    }
   ],
   "source": [
    "np.random.seed(1234)\n",
    "\n",
    "a = np.random.randint(low = 1, high = 10, size = (3, 1, 4))\n",
    "print(a)\n",
    "\n",
    "b = np.random.randint(low = 1, high = 10, size = (2, 1))\n",
    "print(b)"
   ]
  },
  {
   "cell_type": "code",
   "execution_count": null,
   "metadata": {
    "ExecuteTime": {
     "end_time": "2021-03-04T13:41:35.532034Z",
     "start_time": "2021-03-04T13:41:35.525365Z"
    },
    "colab": {
     "base_uri": "https://localhost:8080/"
    },
    "id": "eZkF2I4iQBCq",
    "outputId": "31e0139c-b6e1-4d95-8000-3715b75ff346"
   },
   "outputs": [
    {
     "data": {
      "text/plain": [
       "(3, 2, 4)"
      ]
     },
     "execution_count": 71,
     "metadata": {},
     "output_type": "execute_result"
    }
   ],
   "source": [
    "(a + b).shape"
   ]
  },
  {
   "cell_type": "markdown",
   "metadata": {
    "id": "ZAXABFD0QBCq"
   },
   "source": [
    "Sometimes it is useful to be able to manually modify the shape of the array. This can be done using the `np.newaxis` function (which is simply an alias for the `None` keyword)"
   ]
  },
  {
   "cell_type": "code",
   "execution_count": null,
   "metadata": {
    "ExecuteTime": {
     "end_time": "2021-03-04T13:42:18.823863Z",
     "start_time": "2021-03-04T13:42:18.815881Z"
    },
    "id": "aRZg2sjIQBCq"
   },
   "outputs": [],
   "source": [
    "a = np.array([1, 2, 3, 5, 7, 11, 13])"
   ]
  },
  {
   "cell_type": "code",
   "execution_count": null,
   "metadata": {
    "ExecuteTime": {
     "end_time": "2021-03-04T13:42:38.297766Z",
     "start_time": "2021-03-04T13:42:38.293802Z"
    },
    "colab": {
     "base_uri": "https://localhost:8080/"
    },
    "id": "12uVqbF2QBCq",
    "outputId": "71642223-ff2b-4ada-c826-40689dffe16b"
   },
   "outputs": [
    {
     "data": {
      "text/plain": [
       "(7,)"
      ]
     },
     "execution_count": 73,
     "metadata": {},
     "output_type": "execute_result"
    }
   ],
   "source": [
    "a.shape"
   ]
  },
  {
   "cell_type": "code",
   "execution_count": null,
   "metadata": {
    "ExecuteTime": {
     "end_time": "2021-03-04T13:42:56.190484Z",
     "start_time": "2021-03-04T13:42:56.184128Z"
    },
    "colab": {
     "base_uri": "https://localhost:8080/"
    },
    "id": "oUlRPDeWQBCr",
    "outputId": "c48c9980-a192-4deb-fcbf-354d5e524051"
   },
   "outputs": [
    {
     "data": {
      "text/plain": [
       "(7, 1)"
      ]
     },
     "execution_count": 75,
     "metadata": {},
     "output_type": "execute_result"
    }
   ],
   "source": [
    "a[:, np.newaxis].shape"
   ]
  },
  {
   "cell_type": "code",
   "execution_count": null,
   "metadata": {
    "ExecuteTime": {
     "end_time": "2021-03-04T00:49:52.530524Z",
     "start_time": "2021-03-04T00:49:52.526643Z"
    },
    "colab": {
     "base_uri": "https://localhost:8080/"
    },
    "id": "R9dFBC9cQBCr",
    "outputId": "3fac5e75-6745-41e6-ab07-425ea438df86"
   },
   "outputs": [
    {
     "data": {
      "text/plain": [
       "(1, 7)"
      ]
     },
     "execution_count": 76,
     "metadata": {},
     "output_type": "execute_result"
    }
   ],
   "source": [
    "a[None, :].shape"
   ]
  },
  {
   "cell_type": "markdown",
   "metadata": {
    "id": "xfBTOPheQBCr"
   },
   "source": [
    "This can be very useful if one wants to build an array containing the results of a cross-join operation on two matrices. Suppose we are trying to create $c_{ij} = a_i - b_j$."
   ]
  },
  {
   "cell_type": "code",
   "execution_count": null,
   "metadata": {
    "ExecuteTime": {
     "end_time": "2021-03-04T13:44:37.156766Z",
     "start_time": "2021-03-04T13:44:37.148882Z"
    },
    "colab": {
     "base_uri": "https://localhost:8080/"
    },
    "id": "kby5ltHpQBCr",
    "outputId": "d15dd4f9-b695-468d-8dc0-2c193f28d2ec"
   },
   "outputs": [
    {
     "name": "stdout",
     "output_type": "stream",
     "text": [
      "[[ 1  0 -1 -2 -3 -4 -5]\n",
      " [ 2  1  0 -1 -2 -3 -4]\n",
      " [ 3  2  1  0 -1 -2 -3]\n",
      " [ 5  4  3  2  1  0 -1]\n",
      " [ 7  6  5  4  3  2  1]\n",
      " [11 10  9  8  7  6  5]\n",
      " [13 12 11 10  9  8  7]]\n"
     ]
    }
   ],
   "source": [
    "b = np.arange(7)\n",
    "\n",
    "c = a[:, None] - b[None, :]\n",
    "\n",
    "print(c)"
   ]
  },
  {
   "cell_type": "markdown",
   "metadata": {
    "id": "wYftcGq6QBCs"
   },
   "source": [
    "## Boolean indexing\n",
    "\n",
    "Anytime you have a boolean array, you can use it to mask entries in another array."
   ]
  },
  {
   "cell_type": "code",
   "execution_count": null,
   "metadata": {
    "ExecuteTime": {
     "end_time": "2021-03-04T13:45:11.374291Z",
     "start_time": "2021-03-04T13:45:11.363385Z"
    },
    "colab": {
     "base_uri": "https://localhost:8080/"
    },
    "id": "bnEVoefSQBCs",
    "outputId": "cdf9ea80-e1de-4045-e2f9-1bc95859aa55"
   },
   "outputs": [
    {
     "data": {
      "text/plain": [
       "array([[76, 37, 34, 38, 67],\n",
       "       [11,  0, 75, 80,  3],\n",
       "       [ 2, 19, 12, 65, 75],\n",
       "       [81, 14, 71, 60, 46],\n",
       "       [28, 81, 87, 13, 96]])"
      ]
     },
     "execution_count": 78,
     "metadata": {},
     "output_type": "execute_result"
    }
   ],
   "source": [
    "a = np.random.randint(0, 100, size=(5,5))\n",
    "\n",
    "a"
   ]
  },
  {
   "cell_type": "code",
   "execution_count": null,
   "metadata": {
    "colab": {
     "base_uri": "https://localhost:8080/"
    },
    "id": "vPt_o9tCbVpP",
    "outputId": "62fb25e9-2a3a-4012-a600-5ab9a717405c"
   },
   "outputs": [
    {
     "data": {
      "text/plain": [
       "array([[ True, False, False, False,  True],\n",
       "       [False, False,  True,  True, False],\n",
       "       [False, False, False,  True,  True],\n",
       "       [ True, False,  True,  True, False],\n",
       "       [False,  True,  True, False,  True]])"
      ]
     },
     "execution_count": 81,
     "metadata": {},
     "output_type": "execute_result"
    }
   ],
   "source": [
    "a > 50"
   ]
  },
  {
   "cell_type": "code",
   "execution_count": null,
   "metadata": {
    "ExecuteTime": {
     "end_time": "2021-03-04T13:45:31.259277Z",
     "start_time": "2021-03-04T13:45:31.255325Z"
    },
    "id": "_EqU3aJbQBCs"
   },
   "outputs": [],
   "source": [
    "temps_greater_than_50 = a > 50"
   ]
  },
  {
   "cell_type": "code",
   "execution_count": null,
   "metadata": {
    "colab": {
     "base_uri": "https://localhost:8080/"
    },
    "id": "ZXI7zeiuQBCt",
    "outputId": "c7e4a392-ebe7-4b89-aa60-7633ca1ce54e"
   },
   "outputs": [
    {
     "data": {
      "text/plain": [
       "array([76, 67, 75, 80, 65, 75, 81, 71, 60, 81, 87, 96])"
      ]
     },
     "execution_count": 80,
     "metadata": {},
     "output_type": "execute_result"
    }
   ],
   "source": [
    "a[temps_greater_than_50]"
   ]
  },
  {
   "cell_type": "markdown",
   "metadata": {
    "id": "dkpz0kioQBCt"
   },
   "source": [
    "Boolean masking may be applied not only to values, but to rows and columns as well. Just remember to use slicing:\n",
    "\n",
    "*array*[*row_mask*,*col_mask*]"
   ]
  },
  {
   "cell_type": "code",
   "execution_count": null,
   "metadata": {
    "ExecuteTime": {
     "end_time": "2021-03-04T13:47:08.375507Z",
     "start_time": "2021-03-04T13:47:08.372114Z"
    },
    "id": "LK3VoBzFQBCt"
   },
   "outputs": [],
   "source": [
    "rows_2_and_4 = np.array([False, True, False, True, False])\n",
    "cols_1_and_2 = np.array([True, True, False, False, False])"
   ]
  },
  {
   "cell_type": "code",
   "execution_count": null,
   "metadata": {
    "ExecuteTime": {
     "end_time": "2021-03-04T13:47:27.929029Z",
     "start_time": "2021-03-04T13:47:27.923550Z"
    },
    "colab": {
     "base_uri": "https://localhost:8080/"
    },
    "id": "sTMTNGcuQBCu",
    "outputId": "de34a676-603e-40be-8971-e6622bd527b6"
   },
   "outputs": [
    {
     "data": {
      "text/plain": [
       "array([[11,  0, 75, 80,  3],\n",
       "       [81, 14, 71, 60, 46]])"
      ]
     },
     "execution_count": 83,
     "metadata": {},
     "output_type": "execute_result"
    }
   ],
   "source": [
    "a[rows_2_and_4]"
   ]
  },
  {
   "cell_type": "code",
   "execution_count": null,
   "metadata": {
    "ExecuteTime": {
     "end_time": "2021-03-04T13:47:52.672419Z",
     "start_time": "2021-03-04T13:47:52.653408Z"
    },
    "colab": {
     "base_uri": "https://localhost:8080/"
    },
    "id": "GO_GnWJHQBCu",
    "outputId": "55c25548-2099-4374-c4bf-a0ec268e07d9"
   },
   "outputs": [
    {
     "data": {
      "text/plain": [
       "array([11, 14])"
      ]
     },
     "execution_count": 84,
     "metadata": {},
     "output_type": "execute_result"
    }
   ],
   "source": [
    "a[rows_2_and_4, cols_1_and_2]"
   ]
  },
  {
   "cell_type": "code",
   "execution_count": null,
   "metadata": {
    "ExecuteTime": {
     "end_time": "2021-03-04T13:48:13.933580Z",
     "start_time": "2021-03-04T13:48:13.927241Z"
    },
    "id": "E40DcHTNQBCu"
   },
   "outputs": [],
   "source": [
    "names = np.array([\"Dennis\", \"Dee\", \"Charlie\", \"Mac\", \"Frank\"])\n",
    "ages = np.array([43, 44, 43, 42, 74])\n",
    "genders = np.array(['male', 'female', 'male', 'male', 'male'])"
   ]
  },
  {
   "cell_type": "code",
   "execution_count": null,
   "metadata": {
    "ExecuteTime": {
     "end_time": "2021-03-04T13:49:00.219652Z",
     "start_time": "2021-03-04T13:49:00.212754Z"
    },
    "colab": {
     "base_uri": "https://localhost:8080/"
    },
    "id": "5wjGKomLQBCu",
    "outputId": "f155b136-3ca2-444a-fed0-cd938e369821"
   },
   "outputs": [
    {
     "data": {
      "text/plain": [
       "array(['Frank'], dtype='<U7')"
      ]
     },
     "execution_count": 86,
     "metadata": {},
     "output_type": "execute_result"
    }
   ],
   "source": [
    "names[(genders == 'male') & (ages > 43)]"
   ]
  },
  {
   "cell_type": "code",
   "execution_count": null,
   "metadata": {
    "ExecuteTime": {
     "end_time": "2021-03-04T13:49:20.367011Z",
     "start_time": "2021-03-04T13:49:20.356561Z"
    },
    "colab": {
     "base_uri": "https://localhost:8080/"
    },
    "id": "LBVJr3CxQBCv",
    "outputId": "d5700f0e-7a62-42d2-b53f-9f056e7782b4"
   },
   "outputs": [
    {
     "data": {
      "text/plain": [
       "array(['Dee'], dtype='<U7')"
      ]
     },
     "execution_count": 87,
     "metadata": {},
     "output_type": "execute_result"
    }
   ],
   "source": [
    "names[~(genders == 'male') & (ages % 2 == 0)]"
   ]
  },
  {
   "cell_type": "markdown",
   "metadata": {
    "id": "T3JO1vTzQBCv"
   },
   "source": [
    "## `Random` module\n",
    "\n",
    "One of the most frequently used parts of the `NumPy` is the random number generation procedure. Below you can see examples of different samples:\n",
    "- normal sample\n",
    "- uniform sample\n",
    "- choosing from a set with/without replacement"
   ]
  },
  {
   "cell_type": "code",
   "execution_count": null,
   "metadata": {
    "ExecuteTime": {
     "end_time": "2021-03-04T13:49:46.450773Z",
     "start_time": "2021-03-04T13:49:46.441714Z"
    },
    "colab": {
     "base_uri": "https://localhost:8080/"
    },
    "id": "N2v5sY3aQBCv",
    "outputId": "f1078204-6ebf-4f0d-9856-aafa3f2f2add"
   },
   "outputs": [
    {
     "data": {
      "text/plain": [
       "array([[ 7.77254312,  9.32518006, 11.01484933],\n",
       "       [ 9.44297546,  9.57539397, 10.13749589],\n",
       "       [ 9.92948695, 10.32539432,  9.52647845]])"
      ]
     },
     "execution_count": 88,
     "metadata": {},
     "output_type": "execute_result"
    }
   ],
   "source": [
    "np.random.normal(loc=10.0, scale=1.0, size=(3,3))"
   ]
  },
  {
   "cell_type": "code",
   "execution_count": null,
   "metadata": {
    "ExecuteTime": {
     "end_time": "2021-03-04T13:50:24.492056Z",
     "start_time": "2021-03-04T13:50:24.475232Z"
    },
    "colab": {
     "base_uri": "https://localhost:8080/"
    },
    "id": "TdYx11iOQBCv",
    "outputId": "ea00208d-930e-45af-db63-6981c1120d03"
   },
   "outputs": [
    {
     "data": {
      "text/plain": [
       "array([[12, 15, 16],\n",
       "       [17, 14, 13],\n",
       "       [15, 16, 14]])"
      ]
     },
     "execution_count": 89,
     "metadata": {},
     "output_type": "execute_result"
    }
   ],
   "source": [
    "np.random.randint(low=10, high=20, size=(3,3))"
   ]
  },
  {
   "cell_type": "code",
   "execution_count": null,
   "metadata": {
    "ExecuteTime": {
     "end_time": "2021-03-04T13:50:44.336204Z",
     "start_time": "2021-03-04T13:50:44.319264Z"
    },
    "colab": {
     "base_uri": "https://localhost:8080/"
    },
    "id": "dnucQVfWQBCw",
    "outputId": "32e3409f-b0f9-48de-8277-cae16bb6358c"
   },
   "outputs": [
    {
     "data": {
      "text/plain": [
       "array([0.32815036, 0.47386   , 0.06808472, 0.3827107 , 0.11855414])"
      ]
     },
     "execution_count": 90,
     "metadata": {},
     "output_type": "execute_result"
    }
   ],
   "source": [
    "np.random.uniform(low=0, high=1, size=5)"
   ]
  },
  {
   "cell_type": "code",
   "execution_count": null,
   "metadata": {
    "ExecuteTime": {
     "end_time": "2021-03-04T13:51:25.029510Z",
     "start_time": "2021-03-04T13:51:25.019781Z"
    },
    "colab": {
     "base_uri": "https://localhost:8080/"
    },
    "id": "4WsRJc_NQBCw",
    "outputId": "641c68e0-9c3e-487a-dd69-b0302bc0e9ad"
   },
   "outputs": [
    {
     "data": {
      "text/plain": [
       "array([4, 3, 2, 5, 2, 1, 2, 3, 2, 3])"
      ]
     },
     "execution_count": 91,
     "metadata": {},
     "output_type": "execute_result"
    }
   ],
   "source": [
    "np.random.choice(\n",
    "    a=[1,2,3,4,5,6],\n",
    "    replace=True,\n",
    "    size=10\n",
    ")"
   ]
  },
  {
   "cell_type": "code",
   "execution_count": null,
   "metadata": {
    "ExecuteTime": {
     "end_time": "2021-03-04T13:51:44.710682Z",
     "start_time": "2021-03-04T13:51:44.701007Z"
    },
    "colab": {
     "base_uri": "https://localhost:8080/"
    },
    "id": "xbCwGZoHQBCw",
    "outputId": "6b56185b-6d7d-4ff8-f1d2-84ac26fd0242"
   },
   "outputs": [
    {
     "data": {
      "text/plain": [
       "array(['is', 'sampling', 'is', 'is', 'replacement', 'is', 'sampling',\n",
       "       'replacement'], dtype='<U11')"
      ]
     },
     "execution_count": 92,
     "metadata": {},
     "output_type": "execute_result"
    }
   ],
   "source": [
    "np.random.choice(\n",
    "    a=['this','is','sampling','without','replacement'],\n",
    "    replace=True,\n",
    "    size=8\n",
    ")"
   ]
  },
  {
   "cell_type": "markdown",
   "metadata": {
    "id": "v75VW241QBCx"
   },
   "source": [
    "Despite the fact that most people use the `random` module as above, this way is in fact deprecated, because it introduces a dependency on the random number generator used currently by `NumPy`. In theory, if `NumPy` changes the generator, all the code becomes non-reproducible.\n",
    "A simple solution is to use the generic `Generator` class."
   ]
  },
  {
   "cell_type": "code",
   "execution_count": null,
   "metadata": {
    "ExecuteTime": {
     "end_time": "2021-03-04T13:52:59.008011Z",
     "start_time": "2021-03-04T13:52:58.997582Z"
    },
    "id": "UpaPFssxQBCx"
   },
   "outputs": [],
   "source": [
    "generator = np.random.default_rng(seed=123)"
   ]
  },
  {
   "cell_type": "code",
   "execution_count": null,
   "metadata": {
    "ExecuteTime": {
     "end_time": "2021-03-04T13:53:20.226665Z",
     "start_time": "2021-03-04T13:53:20.216145Z"
    },
    "colab": {
     "base_uri": "https://localhost:8080/"
    },
    "id": "4LWyc3xXQBCx",
    "outputId": "531be21e-78a4-4107-f0d2-f6b0fd0a47e3"
   },
   "outputs": [
    {
     "data": {
      "text/plain": [
       "array([ 2, 68, 59,  6, 90, 22, 26, 19, 34, 18])"
      ]
     },
     "execution_count": 94,
     "metadata": {},
     "output_type": "execute_result"
    }
   ],
   "source": [
    "generator.integers(low=1, high=100, size=10)"
   ]
  },
  {
   "cell_type": "code",
   "execution_count": null,
   "metadata": {
    "ExecuteTime": {
     "end_time": "2021-03-04T13:53:41.500806Z",
     "start_time": "2021-03-04T13:53:41.488864Z"
    },
    "colab": {
     "base_uri": "https://localhost:8080/"
    },
    "id": "DlcSBn3SQBCx",
    "outputId": "e70b354a-d9c8-4f2e-d366-2c1376459ea0"
   },
   "outputs": [
    {
     "data": {
      "text/plain": [
       "array([ 0.57710379, -0.63646365,  0.54195222, -0.31659545, -0.32238912,\n",
       "        0.09716732, -1.52593041,  1.1921661 , -0.67108968,  1.00026942])"
      ]
     },
     "execution_count": 95,
     "metadata": {},
     "output_type": "execute_result"
    }
   ],
   "source": [
    "generator.normal(loc=0, scale=1, size=10)"
   ]
  },
  {
   "cell_type": "code",
   "execution_count": null,
   "metadata": {
    "ExecuteTime": {
     "end_time": "2021-03-04T13:54:01.554116Z",
     "start_time": "2021-03-04T13:54:01.544657Z"
    },
    "colab": {
     "base_uri": "https://localhost:8080/"
    },
    "id": "OF7VBpH5QBCy",
    "outputId": "abc9d02c-9246-4a6b-c276-7998ffaead12"
   },
   "outputs": [
    {
     "data": {
      "text/plain": [
       "array([1, 2, 2, 3, 3, 1, 3, 3, 1, 2])"
      ]
     },
     "execution_count": 96,
     "metadata": {},
     "output_type": "execute_result"
    }
   ],
   "source": [
    "generator.choice(a=[1,2,3], replace=True, size=10)"
   ]
  },
  {
   "cell_type": "markdown",
   "metadata": {
    "id": "3l1CjkUkQBCy"
   },
   "source": [
    "## Exercises"
   ]
  },
  {
   "cell_type": "markdown",
   "metadata": {
    "id": "A4tA1endQBCy"
   },
   "source": [
    "### Two reviewers\n",
    "\n",
    "You are given two arrays representing ratings assigned to 100 movies by two reviewers. Identify movies such that the reviewers differ in their rating by at most 1."
   ]
  },
  {
   "cell_type": "code",
   "execution_count": null,
   "metadata": {
    "ExecuteTime": {
     "end_time": "2021-03-04T01:23:50.673956Z",
     "start_time": "2021-03-04T01:23:50.665992Z"
    },
    "id": "yluJcidIQBCy"
   },
   "outputs": [],
   "source": [
    "movies = np.arange(100)\n",
    "reviewer_a = np.random.choice(a=[1,2,3,4,5], size=100)\n",
    "reviewer_b = np.random.choice(a=[1,2,3,4,5], size=100)"
   ]
  },
  {
   "cell_type": "code",
   "execution_count": null,
   "metadata": {
    "colab": {
     "base_uri": "https://localhost:8080/"
    },
    "id": "LnTiOi3ldc39",
    "outputId": "bb297ec0-60a3-4765-e0d8-035964141d65"
   },
   "outputs": [
    {
     "data": {
      "text/plain": [
       "array([ 1,  3,  5,  8, 10, 13, 14, 15, 16, 21, 22, 23, 28, 29, 31, 33, 37,\n",
       "       42, 43, 45, 46, 49, 50, 51, 52, 53, 54, 56, 57, 58, 62, 63, 64, 66,\n",
       "       67, 69, 71, 72, 73, 78, 80, 81, 82, 84, 85, 86, 92, 94, 95, 96, 98])"
      ]
     },
     "execution_count": 101,
     "metadata": {},
     "output_type": "execute_result"
    }
   ],
   "source": [
    "movies[abs(reviewer_a - reviewer_b) <= 1]"
   ]
  },
  {
   "cell_type": "markdown",
   "metadata": {
    "id": "8IKOzty0QBCz"
   },
   "source": [
    "## Using `where`\n",
    "\n",
    "`np.where` is a very useful function which allows to quickly filter elements of an array based on the condition. Imagine you have two large arrays and you want to create a third array such that it contains, for each cell, the larger value from the two arrays. First, let's do it in a traditional way."
   ]
  },
  {
   "cell_type": "code",
   "execution_count": null,
   "metadata": {
    "ExecuteTime": {
     "end_time": "2021-03-04T13:54:22.651424Z",
     "start_time": "2021-03-04T13:54:22.638584Z"
    },
    "id": "Q6N10dvgQBCz"
   },
   "outputs": [],
   "source": [
    "a = np.random.randint(1, 6, size=10**6)\n",
    "b = np.random.randint(1, 6, size=10**6)"
   ]
  },
  {
   "cell_type": "code",
   "execution_count": null,
   "metadata": {
    "ExecuteTime": {
     "end_time": "2021-03-04T13:54:47.525977Z",
     "start_time": "2021-03-04T13:54:47.302492Z"
    },
    "colab": {
     "base_uri": "https://localhost:8080/"
    },
    "id": "BIsOLKdbQBCz",
    "outputId": "847ebcea-c9ee-48c2-b8cd-099df9a752ce"
   },
   "outputs": [
    {
     "name": "stdout",
     "output_type": "stream",
     "text": [
      "CPU times: user 1.09 s, sys: 5.97 ms, total: 1.09 s\n",
      "Wall time: 1.12 s\n"
     ]
    }
   ],
   "source": [
    "%%time\n",
    "c = np.zeros(a.size)\n",
    "\n",
    "for i in range(a.size):\n",
    "    if a[i] > b[i]:\n",
    "        c[i] = a[i]\n",
    "    else:\n",
    "        c[i] = b[i]\n"
   ]
  },
  {
   "cell_type": "code",
   "execution_count": null,
   "metadata": {
    "ExecuteTime": {
     "end_time": "2021-03-04T13:55:15.932190Z",
     "start_time": "2021-03-04T13:55:15.923076Z"
    },
    "colab": {
     "base_uri": "https://localhost:8080/"
    },
    "id": "lYIW-UPaQBC0",
    "outputId": "bab3463a-6e08-41c2-efd6-792d7ce446c3"
   },
   "outputs": [
    {
     "name": "stdout",
     "output_type": "stream",
     "text": [
      "CPU times: user 8.75 ms, sys: 4.06 ms, total: 12.8 ms\n",
      "Wall time: 12.8 ms\n"
     ]
    }
   ],
   "source": [
    "%%time\n",
    "d = np.where(a > b, a, b)"
   ]
  },
  {
   "cell_type": "code",
   "execution_count": null,
   "metadata": {
    "ExecuteTime": {
     "end_time": "2021-03-04T13:55:34.871139Z",
     "start_time": "2021-03-04T13:55:34.863928Z"
    },
    "colab": {
     "base_uri": "https://localhost:8080/"
    },
    "id": "Ed_XuNl8QBC0",
    "outputId": "f4e29745-8b1d-4484-b137-cc771fb3f747"
   },
   "outputs": [
    {
     "data": {
      "text/plain": [
       "True"
      ]
     },
     "execution_count": 107,
     "metadata": {},
     "output_type": "execute_result"
    }
   ],
   "source": [
    "np.array_equal(c,d)"
   ]
  },
  {
   "cell_type": "markdown",
   "metadata": {
    "id": "1h5ZDA3MQBC0"
   },
   "source": [
    "## Exercises"
   ]
  },
  {
   "cell_type": "markdown",
   "metadata": {
    "id": "4NPLbkFxQBC1"
   },
   "source": [
    "### First to finish the assignment\n",
    "\n",
    "Given an array with students' assignments ordered by the increasing date of submission, you want to reward first 3 students who submitted their work and who got at least 75 points. Increase their scores by 5 points."
   ]
  },
  {
   "cell_type": "code",
   "execution_count": null,
   "metadata": {
    "id": "lTCamfeKQBC1"
   },
   "outputs": [],
   "source": [
    "grades = np.random.randint(low=0, high=100, size=50)"
   ]
  },
  {
   "cell_type": "code",
   "execution_count": null,
   "metadata": {
    "colab": {
     "base_uri": "https://localhost:8080/"
    },
    "id": "cJpR_vZ8e6Hv",
    "outputId": "333f8a9a-1026-4176-d7b1-cc199c77e52e"
   },
   "outputs": [
    {
     "data": {
      "text/plain": [
       "array([58, 17, 54, 42, 93, 14, 29, 62, 31, 72, 31, 69,  3, 69, 66, 26, 88,\n",
       "       39, 36, 18, 87, 46, 76, 38, 66, 25, 54,  2, 57, 55, 77, 54, 20, 23,\n",
       "       64,  1,  8, 99, 87, 20, 42,  6,  2, 46, 18, 47, 82, 16, 51, 98])"
      ]
     },
     "execution_count": 109,
     "metadata": {},
     "output_type": "execute_result"
    }
   ],
   "source": [
    "grades"
   ]
  },
  {
   "cell_type": "code",
   "execution_count": null,
   "metadata": {
    "id": "71ehfYYZe9bB"
   },
   "outputs": [],
   "source": [
    "d = np.where(grades >= 75, grades + 5, grades)"
   ]
  },
  {
   "cell_type": "code",
   "execution_count": null,
   "metadata": {
    "colab": {
     "base_uri": "https://localhost:8080/"
    },
    "id": "ceTsUHElfHOZ",
    "outputId": "0c7c9f8f-43bc-4c34-a0f2-144c233345d4"
   },
   "outputs": [
    {
     "data": {
      "text/plain": [
       "array([ 58,  17,  54,  42,  98,  14,  29,  62,  31,  72,  31,  69,   3,\n",
       "        69,  66,  26,  93,  39,  36,  18,  92,  46,  81,  38,  66,  25,\n",
       "        54,   2,  57,  55,  82,  54,  20,  23,  64,   1,   8, 104,  92,\n",
       "        20,  42,   6,   2,  46,  18,  47,  87,  16,  51, 103])"
      ]
     },
     "execution_count": 111,
     "metadata": {},
     "output_type": "execute_result"
    }
   ],
   "source": [
    "d"
   ]
  },
  {
   "cell_type": "markdown",
   "metadata": {
    "id": "2c6-jJ4wQBC2"
   },
   "source": [
    "## Math functions\n",
    "\n",
    "`NumPy` contains several highly optimized implementations of math functions. Whenever possible, try to use them instead of your own implementations. Remember, that math functions are easily generalized to n-dim arrays."
   ]
  },
  {
   "cell_type": "code",
   "execution_count": null,
   "metadata": {
    "ExecuteTime": {
     "end_time": "2021-03-04T13:55:56.832810Z",
     "start_time": "2021-03-04T13:55:56.824608Z"
    },
    "id": "qPZ2CtDHQBC2"
   },
   "outputs": [],
   "source": [
    "a = np.array([\n",
    "    [1, 2, 3, 4],\n",
    "    [5, 6, 7, 8],\n",
    "    [9, 10, 11, 12],\n",
    "    [13, 14, 15, 16],\n",
    "], dtype=np.float64)"
   ]
  },
  {
   "cell_type": "code",
   "execution_count": null,
   "metadata": {
    "colab": {
     "base_uri": "https://localhost:8080/"
    },
    "id": "oAUKsfIWQBC2",
    "outputId": "74629822-0b1b-4d5c-de96-c2267bddd6f5"
   },
   "outputs": [
    {
     "data": {
      "text/plain": [
       "array([[ 1.,  2.,  3.,  4.],\n",
       "       [ 5.,  6.,  7.,  8.],\n",
       "       [ 9., 10., 11., 12.],\n",
       "       [13., 14., 15., 16.]])"
      ]
     },
     "execution_count": 113,
     "metadata": {},
     "output_type": "execute_result"
    }
   ],
   "source": [
    "a"
   ]
  },
  {
   "cell_type": "code",
   "execution_count": null,
   "metadata": {
    "ExecuteTime": {
     "end_time": "2021-03-04T13:56:18.831366Z",
     "start_time": "2021-03-04T13:56:18.823776Z"
    },
    "colab": {
     "base_uri": "https://localhost:8080/"
    },
    "id": "sekzisWrQBC2",
    "outputId": "bf85da00-e75c-4e25-dbe6-41692eab88e2"
   },
   "outputs": [
    {
     "data": {
      "text/plain": [
       "136.0"
      ]
     },
     "execution_count": 115,
     "metadata": {},
     "output_type": "execute_result"
    }
   ],
   "source": [
    "np.sum(a)"
   ]
  },
  {
   "cell_type": "code",
   "execution_count": null,
   "metadata": {
    "ExecuteTime": {
     "end_time": "2021-03-04T13:56:39.594967Z",
     "start_time": "2021-03-04T13:56:39.585219Z"
    },
    "colab": {
     "base_uri": "https://localhost:8080/"
    },
    "id": "O8--_bzbQBC3",
    "outputId": "57d536eb-d32b-4d65-b77e-f11ae93ba49c"
   },
   "outputs": [
    {
     "data": {
      "text/plain": [
       "array([28., 32., 36., 40.])"
      ]
     },
     "execution_count": 114,
     "metadata": {},
     "output_type": "execute_result"
    }
   ],
   "source": [
    "np.sum(a, axis=0)"
   ]
  },
  {
   "cell_type": "code",
   "execution_count": null,
   "metadata": {
    "ExecuteTime": {
     "end_time": "2021-03-04T13:57:00.640615Z",
     "start_time": "2021-03-04T13:57:00.630804Z"
    },
    "colab": {
     "base_uri": "https://localhost:8080/"
    },
    "id": "xqa1bRojQBC3",
    "outputId": "917a3ca8-a369-44c1-dcf7-89016b4fcd65"
   },
   "outputs": [
    {
     "data": {
      "text/plain": [
       "array([10., 26., 42., 58.])"
      ]
     },
     "execution_count": 116,
     "metadata": {},
     "output_type": "execute_result"
    }
   ],
   "source": [
    "np.sum(a, axis=1)"
   ]
  },
  {
   "cell_type": "markdown",
   "metadata": {
    "id": "lUeq5pUFQBC3"
   },
   "source": [
    "But beware of `nan`s, as they tend to destroy all math!"
   ]
  },
  {
   "cell_type": "code",
   "execution_count": null,
   "metadata": {
    "colab": {
     "base_uri": "https://localhost:8080/"
    },
    "id": "kiqAXmeIQBC3",
    "outputId": "e2f044d1-1860-436f-a1c8-1c69eef6e6b5"
   },
   "outputs": [
    {
     "data": {
      "text/plain": [
       "array([[ 1.,  2.,  3.,  4.],\n",
       "       [ 5.,  6.,  7.,  8.],\n",
       "       [ 9., 10., 11., 12.],\n",
       "       [13., 14., 15., 16.]])"
      ]
     },
     "execution_count": 117,
     "metadata": {},
     "output_type": "execute_result"
    }
   ],
   "source": [
    "a"
   ]
  },
  {
   "cell_type": "code",
   "execution_count": null,
   "metadata": {
    "ExecuteTime": {
     "end_time": "2021-03-04T13:57:21.736012Z",
     "start_time": "2021-03-04T13:57:21.723411Z"
    },
    "id": "aRg-QbImQBC4"
   },
   "outputs": [],
   "source": [
    "a[2,2] = np.nan"
   ]
  },
  {
   "cell_type": "code",
   "execution_count": null,
   "metadata": {
    "colab": {
     "base_uri": "https://localhost:8080/"
    },
    "id": "OehNgfV2QBC4",
    "outputId": "3970aca9-3bb9-4c6d-f0b5-ac709fe51cf8"
   },
   "outputs": [
    {
     "data": {
      "text/plain": [
       "nan"
      ]
     },
     "execution_count": 119,
     "metadata": {},
     "output_type": "execute_result"
    }
   ],
   "source": [
    "a.sum()"
   ]
  },
  {
   "cell_type": "code",
   "execution_count": null,
   "metadata": {
    "ExecuteTime": {
     "end_time": "2021-03-04T13:57:41.411491Z",
     "start_time": "2021-03-04T13:57:41.397966Z"
    },
    "colab": {
     "base_uri": "https://localhost:8080/"
    },
    "id": "aOkCQqRmQBC4",
    "outputId": "16df6412-eb06-471d-8978-d195465993f3"
   },
   "outputs": [
    {
     "data": {
      "text/plain": [
       "array([ 1.,  2.,  3.,  4.,  5.,  6.,  7.,  8.,  9., 10., 12., 13., 14.,\n",
       "       15., 16.])"
      ]
     },
     "execution_count": 120,
     "metadata": {},
     "output_type": "execute_result"
    }
   ],
   "source": [
    "a[~np.isnan(a)]"
   ]
  },
  {
   "cell_type": "code",
   "execution_count": null,
   "metadata": {
    "ExecuteTime": {
     "end_time": "2021-03-04T13:58:16.780516Z",
     "start_time": "2021-03-04T13:58:16.773134Z"
    },
    "colab": {
     "base_uri": "https://localhost:8080/"
    },
    "id": "9A3zDga3QBC4",
    "outputId": "898068ab-fabd-4325-ed0e-334e0c6bb6c5"
   },
   "outputs": [
    {
     "data": {
      "text/plain": [
       "125.0"
      ]
     },
     "execution_count": 121,
     "metadata": {},
     "output_type": "execute_result"
    }
   ],
   "source": [
    "a[~np.isnan(a)].sum()"
   ]
  },
  {
   "cell_type": "code",
   "execution_count": null,
   "metadata": {
    "ExecuteTime": {
     "end_time": "2021-03-04T01:47:25.545186Z",
     "start_time": "2021-03-04T01:47:25.541010Z"
    },
    "colab": {
     "base_uri": "https://localhost:8080/"
    },
    "id": "7ZZPvg_vQBC5",
    "outputId": "99e0176a-7e9e-4c6b-8e7d-3f14eb33a552"
   },
   "outputs": [
    {
     "data": {
      "text/plain": [
       "125.0"
      ]
     },
     "execution_count": 122,
     "metadata": {},
     "output_type": "execute_result"
    }
   ],
   "source": [
    "np.sum(a, where=~np.isnan(a))"
   ]
  },
  {
   "cell_type": "code",
   "execution_count": null,
   "metadata": {
    "ExecuteTime": {
     "end_time": "2021-03-04T13:58:38.027639Z",
     "start_time": "2021-03-04T13:58:38.020977Z"
    },
    "colab": {
     "base_uri": "https://localhost:8080/"
    },
    "id": "q3TDVvzyQBC5",
    "outputId": "0a89c346-93fc-44a8-f159-d9f83c264ac3"
   },
   "outputs": [
    {
     "data": {
      "text/plain": [
       "125.0"
      ]
     },
     "execution_count": 125,
     "metadata": {},
     "output_type": "execute_result"
    }
   ],
   "source": [
    "np.nansum(a)"
   ]
  },
  {
   "cell_type": "code",
   "execution_count": null,
   "metadata": {
    "ExecuteTime": {
     "end_time": "2021-03-04T01:47:49.661301Z",
     "start_time": "2021-03-04T01:47:49.657068Z"
    },
    "colab": {
     "base_uri": "https://localhost:8080/"
    },
    "id": "F-tkE77OQBC5",
    "outputId": "ebaed376-b1de-421e-c60b-d4b6c4003fff"
   },
   "outputs": [
    {
     "data": {
      "text/plain": [
       "125.0"
      ]
     },
     "execution_count": 126,
     "metadata": {},
     "output_type": "execute_result"
    }
   ],
   "source": [
    "np.sum(np.nan_to_num(a))"
   ]
  },
  {
   "cell_type": "markdown",
   "metadata": {
    "ExecuteTime": {
     "end_time": "2021-03-04T01:42:42.061430Z",
     "start_time": "2021-03-04T01:42:42.050688Z"
    },
    "id": "nlfkW-9FQBC5"
   },
   "source": [
    "Let's see what else we can do with `nan`s"
   ]
  },
  {
   "cell_type": "code",
   "execution_count": null,
   "metadata": {
    "ExecuteTime": {
     "end_time": "2021-03-04T13:59:12.944488Z",
     "start_time": "2021-03-04T13:59:12.939040Z"
    },
    "id": "37ihtgLVQBC6"
   },
   "outputs": [],
   "source": [
    "a[0,1] = np.nan\n",
    "a[1,3] = np.nan"
   ]
  },
  {
   "cell_type": "code",
   "execution_count": null,
   "metadata": {
    "ExecuteTime": {
     "end_time": "2021-03-04T13:59:33.838490Z",
     "start_time": "2021-03-04T13:59:33.831079Z"
    },
    "colab": {
     "base_uri": "https://localhost:8080/"
    },
    "id": "RxKhZ5WXQBC6",
    "outputId": "f4a98468-342a-41ac-ffa3-cd5e71d11e56"
   },
   "outputs": [
    {
     "data": {
      "text/plain": [
       "array([[False,  True, False, False],\n",
       "       [False, False, False,  True],\n",
       "       [False, False,  True, False],\n",
       "       [False, False, False, False]])"
      ]
     },
     "execution_count": 128,
     "metadata": {},
     "output_type": "execute_result"
    }
   ],
   "source": [
    "np.isnan(a)"
   ]
  },
  {
   "cell_type": "code",
   "execution_count": null,
   "metadata": {
    "ExecuteTime": {
     "end_time": "2021-03-04T13:59:53.706363Z",
     "start_time": "2021-03-04T13:59:53.692944Z"
    },
    "colab": {
     "base_uri": "https://localhost:8080/"
    },
    "id": "uBoSag6mQBC6",
    "outputId": "fb31960f-eb10-467c-9c10-365457bc46a8"
   },
   "outputs": [
    {
     "data": {
      "text/plain": [
       "array([ True,  True,  True, False])"
      ]
     },
     "execution_count": 129,
     "metadata": {},
     "output_type": "execute_result"
    }
   ],
   "source": [
    "np.any(np.isnan(a), axis=1)"
   ]
  },
  {
   "cell_type": "code",
   "execution_count": null,
   "metadata": {
    "ExecuteTime": {
     "end_time": "2021-03-04T01:49:01.901219Z",
     "start_time": "2021-03-04T01:49:01.890166Z"
    },
    "colab": {
     "base_uri": "https://localhost:8080/"
    },
    "id": "YPHUAI_-QBC6",
    "outputId": "480c5142-6416-406c-bf42-823edc208b59"
   },
   "outputs": [
    {
     "data": {
      "text/plain": [
       "array([[ 1., nan,  3.,  4.],\n",
       "       [ 5.,  6.,  7., nan],\n",
       "       [ 9., 10., nan, 12.]])"
      ]
     },
     "execution_count": 130,
     "metadata": {},
     "output_type": "execute_result"
    }
   ],
   "source": [
    "mask = np.any(np.isnan(a), axis=1)\n",
    "a[mask]"
   ]
  },
  {
   "cell_type": "markdown",
   "metadata": {
    "id": "2JGlgzkiQBC7"
   },
   "source": [
    "## Concatenation & sorting\n",
    "\n",
    "Concatenation means joining two arrays by rows or by columns. An array may be concatenated with itself or with another array. There are 4 functions that help with concatenation."
   ]
  },
  {
   "cell_type": "code",
   "execution_count": null,
   "metadata": {
    "ExecuteTime": {
     "end_time": "2021-03-04T14:00:20.888625Z",
     "start_time": "2021-03-04T14:00:20.882599Z"
    },
    "id": "Ay_lGDm9QBC7"
   },
   "outputs": [],
   "source": [
    "a = np.zeros(shape=(3,2))\n",
    "b = np.ones(shape=(2,2))"
   ]
  },
  {
   "cell_type": "code",
   "execution_count": null,
   "metadata": {
    "colab": {
     "base_uri": "https://localhost:8080/"
    },
    "id": "Xh9O6dIxQBC7",
    "outputId": "7306e01b-27a2-4e83-b4b5-ff43ee1adbf2"
   },
   "outputs": [
    {
     "data": {
      "text/plain": [
       "array([[0., 0.],\n",
       "       [0., 0.],\n",
       "       [0., 0.]])"
      ]
     },
     "execution_count": 13,
     "metadata": {},
     "output_type": "execute_result"
    }
   ],
   "source": [
    "a"
   ]
  },
  {
   "cell_type": "code",
   "execution_count": null,
   "metadata": {
    "colab": {
     "base_uri": "https://localhost:8080/"
    },
    "id": "V36F-v4BQBC7",
    "outputId": "16bd54b3-15cb-4c78-b736-2e0aff5ec376"
   },
   "outputs": [
    {
     "data": {
      "text/plain": [
       "array([[1., 1.],\n",
       "       [1., 1.]])"
      ]
     },
     "execution_count": 14,
     "metadata": {},
     "output_type": "execute_result"
    }
   ],
   "source": [
    "b"
   ]
  },
  {
   "cell_type": "code",
   "execution_count": null,
   "metadata": {
    "ExecuteTime": {
     "end_time": "2021-03-04T14:01:03.119193Z",
     "start_time": "2021-03-04T14:01:03.111622Z"
    },
    "colab": {
     "base_uri": "https://localhost:8080/"
    },
    "id": "3V8gyoq0QBC8",
    "outputId": "0d043cf8-e1b5-42e7-d11c-a642c6a5b2c8"
   },
   "outputs": [
    {
     "data": {
      "text/plain": [
       "array([[0., 0.],\n",
       "       [0., 0.],\n",
       "       [0., 0.],\n",
       "       [0., 0.],\n",
       "       [0., 0.],\n",
       "       [0., 0.],\n",
       "       [0., 0.],\n",
       "       [0., 0.],\n",
       "       [0., 0.],\n",
       "       [0., 0.],\n",
       "       [0., 0.],\n",
       "       [0., 0.]])"
      ]
     },
     "execution_count": 15,
     "metadata": {},
     "output_type": "execute_result"
    }
   ],
   "source": [
    "np.concatenate([a, a, a, a], axis=0)"
   ]
  },
  {
   "cell_type": "code",
   "execution_count": null,
   "metadata": {
    "ExecuteTime": {
     "end_time": "2021-03-04T14:01:24.611639Z",
     "start_time": "2021-03-04T14:01:24.601800Z"
    },
    "colab": {
     "base_uri": "https://localhost:8080/"
    },
    "id": "FZz9sUJ3QBC8",
    "outputId": "99861ae3-a0bb-4362-b56a-eca5a197a70e"
   },
   "outputs": [
    {
     "data": {
      "text/plain": [
       "array([[0., 0.],\n",
       "       [0., 0.],\n",
       "       [0., 0.],\n",
       "       [1., 1.],\n",
       "       [1., 1.]])"
      ]
     },
     "execution_count": 16,
     "metadata": {},
     "output_type": "execute_result"
    }
   ],
   "source": [
    "np.concatenate([a, b], axis=0)"
   ]
  },
  {
   "cell_type": "code",
   "execution_count": null,
   "metadata": {
    "ExecuteTime": {
     "end_time": "2021-03-04T14:01:45.184130Z",
     "start_time": "2021-03-04T14:01:45.176845Z"
    },
    "colab": {
     "base_uri": "https://localhost:8080/"
    },
    "id": "w7qBBSpiQBC9",
    "outputId": "10cc0ca4-fa51-4330-d2fe-466ff9b17c55"
   },
   "outputs": [
    {
     "data": {
      "text/plain": [
       "array([[0., 0.],\n",
       "       [0., 0.],\n",
       "       [0., 0.],\n",
       "       [1., 1.],\n",
       "       [1., 1.]])"
      ]
     },
     "execution_count": 17,
     "metadata": {},
     "output_type": "execute_result"
    }
   ],
   "source": [
    "np.vstack([a,b])"
   ]
  },
  {
   "cell_type": "code",
   "execution_count": null,
   "metadata": {
    "ExecuteTime": {
     "end_time": "2021-03-04T14:02:19.702880Z",
     "start_time": "2021-03-04T14:02:19.690719Z"
    },
    "colab": {
     "base_uri": "https://localhost:8080/"
    },
    "id": "XI2tnsxHQBC9",
    "outputId": "c1538892-4f00-4f0f-8a72-cd25a2bb317e"
   },
   "outputs": [
    {
     "data": {
      "text/plain": [
       "array([[0., 0., 0., 1., 1.],\n",
       "       [0., 0., 0., 1., 1.]])"
      ]
     },
     "execution_count": 18,
     "metadata": {},
     "output_type": "execute_result"
    }
   ],
   "source": [
    "np.hstack([a.T,b])"
   ]
  },
  {
   "cell_type": "code",
   "execution_count": null,
   "metadata": {
    "ExecuteTime": {
     "end_time": "2021-03-04T14:02:40.021682Z",
     "start_time": "2021-03-04T14:02:40.012718Z"
    },
    "colab": {
     "base_uri": "https://localhost:8080/"
    },
    "id": "2CSMqLBwQBC-",
    "outputId": "f81d802d-6bb1-4ab4-985e-3603bf002a9a"
   },
   "outputs": [
    {
     "data": {
      "text/plain": [
       "array([[[0., 0.],\n",
       "        [0., 0.]],\n",
       "\n",
       "       [[1., 1.],\n",
       "        [1., 1.]]])"
      ]
     },
     "execution_count": 19,
     "metadata": {},
     "output_type": "execute_result"
    }
   ],
   "source": [
    "np.stack([a[:2,:2], b], axis=0)"
   ]
  },
  {
   "cell_type": "markdown",
   "metadata": {
    "id": "ZbBL8QHlQBC-"
   },
   "source": [
    "Unfortunately, `NumPy` does not provide any easy way of reverse sort, and sorting is limited to two functions."
   ]
  },
  {
   "cell_type": "code",
   "execution_count": null,
   "metadata": {
    "ExecuteTime": {
     "end_time": "2021-03-04T14:02:59.926226Z",
     "start_time": "2021-03-04T14:02:59.915083Z"
    },
    "colab": {
     "base_uri": "https://localhost:8080/"
    },
    "id": "B1_K7Z6mQBC-",
    "outputId": "7b316dc1-17de-4883-bcce-f2fa45f17603"
   },
   "outputs": [
    {
     "data": {
      "text/plain": [
       "array([36, 48, 85, 23, 77, 27, 31,  6, 21, 54, 36, 54, 36, 74, 12,  7, 36,\n",
       "       45, 60, 47,  9, 96, 86, 15, 73, 74, 95, 93, 25, 92, 12, 37, 22, 61,\n",
       "       59, 65, 17, 27, 24, 36, 81, 13, 89, 50, 95, 35, 79, 75, 11, 60])"
      ]
     },
     "execution_count": 20,
     "metadata": {},
     "output_type": "execute_result"
    }
   ],
   "source": [
    "a = np.random.randint(1, 100, size=50)\n",
    "a"
   ]
  },
  {
   "cell_type": "code",
   "execution_count": null,
   "metadata": {
    "ExecuteTime": {
     "end_time": "2021-03-04T14:03:21.860268Z",
     "start_time": "2021-03-04T14:03:21.852152Z"
    },
    "id": "VxgXmRYXQBC_"
   },
   "outputs": [],
   "source": [
    "a.sort()"
   ]
  },
  {
   "cell_type": "code",
   "execution_count": null,
   "metadata": {
    "ExecuteTime": {
     "end_time": "2021-03-04T14:03:42.783979Z",
     "start_time": "2021-03-04T14:03:42.777811Z"
    },
    "colab": {
     "base_uri": "https://localhost:8080/"
    },
    "id": "UpTkPAW5QBC_",
    "outputId": "8653e6c6-5d69-43d4-9256-3130103dda94"
   },
   "outputs": [
    {
     "data": {
      "text/plain": [
       "array([96, 95, 95, 93, 92, 89, 86, 85, 81, 79, 77, 75, 74, 74, 73, 65, 61,\n",
       "       60, 60, 59, 54, 54, 50, 48, 47, 45, 37, 36, 36, 36, 36, 36, 35, 31,\n",
       "       27, 27, 25, 24, 23, 22, 21, 17, 15, 13, 12, 12, 11,  9,  7,  6])"
      ]
     },
     "execution_count": 22,
     "metadata": {},
     "output_type": "execute_result"
    }
   ],
   "source": [
    "a[::-1]"
   ]
  },
  {
   "cell_type": "code",
   "execution_count": null,
   "metadata": {
    "ExecuteTime": {
     "end_time": "2021-03-04T14:04:04.088452Z",
     "start_time": "2021-03-04T14:04:04.082647Z"
    },
    "colab": {
     "base_uri": "https://localhost:8080/"
    },
    "id": "77sV3u-eQBC_",
    "outputId": "f0f0f486-c820-49c2-dcaa-561d1562e606"
   },
   "outputs": [
    {
     "data": {
      "text/plain": [
       "array([96, 95, 95, 93, 92, 89, 86, 85, 81, 79, 77, 75, 74, 74, 73, 65, 61,\n",
       "       60, 60, 59, 54, 54, 50, 48, 47, 45, 37, 36, 36, 36, 36, 36, 35, 31,\n",
       "       27, 27, 25, 24, 23, 22, 21, 17, 15, 13, 12, 12, 11,  9,  7,  6])"
      ]
     },
     "execution_count": 23,
     "metadata": {},
     "output_type": "execute_result"
    }
   ],
   "source": [
    "np.sort(a)[::-1]"
   ]
  },
  {
   "cell_type": "markdown",
   "metadata": {
    "id": "ZmbG-jZLQBDA"
   },
   "source": [
    "If you want to be able to sort values in the first column of an array according to the order in the second column of an array, you need to use `np.argsort`."
   ]
  },
  {
   "cell_type": "code",
   "execution_count": null,
   "metadata": {
    "ExecuteTime": {
     "end_time": "2021-03-04T02:12:52.520705Z",
     "start_time": "2021-03-04T02:12:52.510136Z"
    },
    "colab": {
     "base_uri": "https://localhost:8080/"
    },
    "id": "s7Cowc-jQBDA",
    "outputId": "0049796c-79dc-4c7a-ef11-75ad1bb45c8d"
   },
   "outputs": [
    {
     "name": "stdout",
     "output_type": "stream",
     "text": [
      "[[76 18  7 99]\n",
      " [ 2 14 37 89]\n",
      " [30 67 51 77]\n",
      " [14 12 63 59]\n",
      " [99 15 22 62]]\n"
     ]
    }
   ],
   "source": [
    "a = np.random.randint(1, 100, size=20)\n",
    "a.shape = 5,4\n",
    "\n",
    "print(a)"
   ]
  },
  {
   "cell_type": "code",
   "execution_count": null,
   "metadata": {
    "ExecuteTime": {
     "end_time": "2021-03-04T02:04:49.330043Z",
     "start_time": "2021-03-04T02:04:49.322913Z"
    },
    "colab": {
     "base_uri": "https://localhost:8080/"
    },
    "id": "GCMzphirQBDB",
    "outputId": "acbec9b8-f9f2-490f-9c4c-0850fdee8e17"
   },
   "outputs": [
    {
     "data": {
      "text/plain": [
       "array([[ 2, 12,  7, 59],\n",
       "       [14, 14, 22, 62],\n",
       "       [30, 15, 37, 77],\n",
       "       [76, 18, 51, 89],\n",
       "       [99, 67, 63, 99]])"
      ]
     },
     "execution_count": 25,
     "metadata": {},
     "output_type": "execute_result"
    }
   ],
   "source": [
    "np.sort(a, axis=0)"
   ]
  },
  {
   "cell_type": "code",
   "execution_count": null,
   "metadata": {
    "ExecuteTime": {
     "end_time": "2021-03-04T02:13:03.936412Z",
     "start_time": "2021-03-04T02:13:03.933382Z"
    },
    "colab": {
     "base_uri": "https://localhost:8080/"
    },
    "id": "JQEm5Hu-QBDB",
    "outputId": "a69d747d-fd20-4ad7-9e2f-6fd5287e4a91"
   },
   "outputs": [
    {
     "data": {
      "text/plain": [
       "array([[76, 18,  7, 99],\n",
       "       [ 2, 14, 37, 89],\n",
       "       [30, 67, 51, 77],\n",
       "       [14, 12, 63, 59],\n",
       "       [99, 15, 22, 62]])"
      ]
     },
     "execution_count": 26,
     "metadata": {},
     "output_type": "execute_result"
    }
   ],
   "source": [
    "a"
   ]
  },
  {
   "cell_type": "code",
   "execution_count": null,
   "metadata": {
    "ExecuteTime": {
     "end_time": "2021-03-04T02:17:19.282624Z",
     "start_time": "2021-03-04T02:17:19.270150Z"
    },
    "colab": {
     "base_uri": "https://localhost:8080/"
    },
    "id": "zgRRV54hQBDC",
    "outputId": "b2a2b6e8-da3f-4526-f6df-452a1b3c7123"
   },
   "outputs": [
    {
     "data": {
      "text/plain": [
       "array([[76, 18,  7, 99],\n",
       "       [99, 15, 22, 62],\n",
       "       [ 2, 14, 37, 89],\n",
       "       [30, 67, 51, 77],\n",
       "       [14, 12, 63, 59]])"
      ]
     },
     "execution_count": 27,
     "metadata": {},
     "output_type": "execute_result"
    }
   ],
   "source": [
    "a[np.argsort(a[:,2])]"
   ]
  }
 ],
 "metadata": {
  "colab": {
   "provenance": []
  },
  "kernelspec": {
   "display_name": "Python 3 (ipykernel)",
   "language": "python",
   "name": "python3"
  },
  "language_info": {
   "codemirror_mode": {
    "name": "ipython",
    "version": 3
   },
   "file_extension": ".py",
   "mimetype": "text/x-python",
   "name": "python",
   "nbconvert_exporter": "python",
   "pygments_lexer": "ipython3",
   "version": "3.9.12"
  },
  "toc": {
   "base_numbering": 1,
   "nav_menu": {},
   "number_sections": true,
   "sideBar": true,
   "skip_h1_title": false,
   "title_cell": "Table of Contents",
   "title_sidebar": "Contents",
   "toc_cell": false,
   "toc_position": {},
   "toc_section_display": true,
   "toc_window_display": false
  },
  "varInspector": {
   "cols": {
    "lenName": 16,
    "lenType": 16,
    "lenVar": 40
   },
   "kernels_config": {
    "python": {
     "delete_cmd_postfix": "",
     "delete_cmd_prefix": "del ",
     "library": "var_list.py",
     "varRefreshCmd": "print(var_dic_list())"
    },
    "r": {
     "delete_cmd_postfix": ") ",
     "delete_cmd_prefix": "rm(",
     "library": "var_list.r",
     "varRefreshCmd": "cat(var_dic_list()) "
    }
   },
   "types_to_exclude": [
    "module",
    "function",
    "builtin_function_or_method",
    "instance",
    "_Feature"
   ],
   "window_display": false
  }
 },
 "nbformat": 4,
 "nbformat_minor": 4
}
