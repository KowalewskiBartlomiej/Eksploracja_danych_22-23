{
 "cells": [
  {
   "cell_type": "markdown",
   "metadata": {},
   "source": [
    "# NumPy tutorial\n",
    "\n",
    "[Numerical Python](https://numpy.org) is one of the most fundamental tools in each data miner's toolbox. It is impossible to do serious data pre-processing and transformation without the understanding of `NumPy` and its most commonly used methods. The goal of this tutorial is to familiarize students with this awesome library."
   ]
  },
  {
   "cell_type": "markdown",
   "metadata": {},
   "source": [
    "## Introduction\n",
    "\n",
    "99% of `NumPy` is one data structure and operations on that structure. `NumPy` stores everything in multidimensional arrays and vectorizes all operations on these arrays. For a motivating example, let's compare the speed of computing an average of 10 mln of random numbers stored in a list vs an array"
   ]
  },
  {
   "cell_type": "code",
   "execution_count": null,
   "metadata": {
    "ExecuteTime": {
     "end_time": "2021-03-04T13:09:30.997021Z",
     "start_time": "2021-03-04T13:09:30.231420Z"
    }
   },
   "outputs": [],
   "source": [
    "import numpy as np\n",
    "from numpy.random import randint\n",
    "\n",
    "randoms = randint(low=0, high=1000, size=100000000)\n",
    "lst = list(randoms)"
   ]
  },
  {
   "cell_type": "code",
   "execution_count": null,
   "metadata": {
    "ExecuteTime": {
     "end_time": "2021-03-04T13:09:55.762564Z",
     "start_time": "2021-03-04T13:09:55.717269Z"
    }
   },
   "outputs": [],
   "source": [
    "len(lst)"
   ]
  },
  {
   "cell_type": "code",
   "execution_count": null,
   "metadata": {
    "ExecuteTime": {
     "end_time": "2021-03-04T12:49:38.689313Z",
     "start_time": "2021-03-04T12:49:36.690067Z"
    }
   },
   "outputs": [],
   "source": [
    "%%time\n",
    "\n",
    "# old-school iteration\n",
    "summ = 0\n",
    "for i in range(len(lst)):\n",
    "    summ += lst[i]\n",
    "    \n",
    "print(f'Average = {summ/len(lst)}')"
   ]
  },
  {
   "cell_type": "code",
   "execution_count": null,
   "metadata": {
    "ExecuteTime": {
     "end_time": "2021-03-04T12:49:56.610164Z",
     "start_time": "2021-03-04T12:49:55.653897Z"
    }
   },
   "outputs": [],
   "source": [
    "%%time\n",
    "\n",
    "# using built-ins sum() and len()\n",
    "print(f'Average = {sum(lst)/len(lst)}')"
   ]
  },
  {
   "cell_type": "code",
   "execution_count": null,
   "metadata": {
    "ExecuteTime": {
     "end_time": "2021-03-04T12:50:24.702116Z",
     "start_time": "2021-03-04T12:50:24.675694Z"
    }
   },
   "outputs": [],
   "source": [
    "%%time\n",
    "\n",
    "# using NumPy\n",
    "print(f'Average = {np.mean(randoms)}')"
   ]
  },
  {
   "cell_type": "markdown",
   "metadata": {},
   "source": [
    "There are only two rules regarding `NumPy` arrays:\n",
    "- every element must be of the same type and size\n",
    "- if an array has arrays, they must match as well\n",
    "\n",
    "Let's see how to create an array and what happens when we start messing with the types and sizes of objects"
   ]
  },
  {
   "cell_type": "code",
   "execution_count": null,
   "metadata": {
    "ExecuteTime": {
     "end_time": "2021-03-04T12:51:56.301681Z",
     "start_time": "2021-03-04T12:51:56.283329Z"
    }
   },
   "outputs": [],
   "source": [
    "a = np.array([1, 2, 3, 4, 5], dtype=np.int16)\n",
    "\n",
    "print(f'Shape (sizes of dimensions): {a.shape}')\n",
    "print(f'Number of dimensions: {a.ndim}')\n",
    "print(f'Length (number of elements): {len(a)}')\n",
    "print(f'Size (number of nested elements): {a.size}')\n",
    "print(f'Type : {type(a)}')\n",
    "print(f'Data type (type of array elements): {a.dtype}')"
   ]
  },
  {
   "cell_type": "markdown",
   "metadata": {},
   "source": [
    "Now let's see how the same descriptors can be applied to a two-dimensional array"
   ]
  },
  {
   "cell_type": "code",
   "execution_count": null,
   "metadata": {
    "ExecuteTime": {
     "end_time": "2021-03-04T12:55:13.741515Z",
     "start_time": "2021-03-04T12:55:13.728336Z"
    }
   },
   "outputs": [],
   "source": [
    "a = np.array([\n",
    "    [1, 2, 3, 4, 5],\n",
    "    [1, 4, 9, 16, 25]\n",
    "], dtype=np.int16)\n",
    "\n",
    "print(f'Shape (sizes of dimensions): {a.shape}')\n",
    "print(f'Number of dimensions: {a.ndim}')\n",
    "print(f'Length (number of elements): {len(a)}')\n",
    "print(f'Size (number of nested elements): {a.size}')\n",
    "print(f'Type : {type(a)}')\n",
    "print(f'Data type (type of array elements): {a.dtype}')"
   ]
  },
  {
   "cell_type": "markdown",
   "metadata": {},
   "source": [
    "Array elements should be of the same type. Let's see what happens if we mix two types."
   ]
  },
  {
   "cell_type": "code",
   "execution_count": null,
   "metadata": {
    "ExecuteTime": {
     "end_time": "2021-03-04T12:56:18.484257Z",
     "start_time": "2021-03-04T12:56:18.473013Z"
    }
   },
   "outputs": [],
   "source": [
    "a = np.array([1, 2, 'mary', 'had', 2, 'lambs', True])\n",
    "\n",
    "a"
   ]
  },
  {
   "cell_type": "code",
   "execution_count": null,
   "metadata": {
    "ExecuteTime": {
     "end_time": "2021-03-04T12:57:03.692524Z",
     "start_time": "2021-03-04T12:57:03.673507Z"
    }
   },
   "outputs": [],
   "source": [
    "a.dtype"
   ]
  },
  {
   "cell_type": "markdown",
   "metadata": {},
   "source": [
    "We can also try to modify the length of array's elements"
   ]
  },
  {
   "cell_type": "code",
   "execution_count": null,
   "metadata": {
    "ExecuteTime": {
     "end_time": "2021-03-04T12:57:53.328704Z",
     "start_time": "2021-03-04T12:57:53.322752Z"
    }
   },
   "outputs": [],
   "source": [
    "a = np.array(['mary', 'had', 'a', 'little', 'lamb'])"
   ]
  },
  {
   "cell_type": "code",
   "execution_count": null,
   "metadata": {},
   "outputs": [],
   "source": [
    "a.dtype, a"
   ]
  },
  {
   "cell_type": "code",
   "execution_count": null,
   "metadata": {
    "ExecuteTime": {
     "end_time": "2021-03-04T12:58:21.535252Z",
     "start_time": "2021-03-04T12:58:21.524891Z"
    }
   },
   "outputs": [],
   "source": [
    "a[4] = 'and very very very very long snake'\n",
    "\n",
    "print(a)"
   ]
  },
  {
   "cell_type": "markdown",
   "metadata": {},
   "source": [
    "After an array has been created, it can be reshaped to whatever shape one desires. A special function is provided for transposing an array (changing rows into columns and vice versa)"
   ]
  },
  {
   "cell_type": "code",
   "execution_count": null,
   "metadata": {
    "ExecuteTime": {
     "end_time": "2021-03-04T13:00:28.784164Z",
     "start_time": "2021-03-04T13:00:28.778418Z"
    }
   },
   "outputs": [],
   "source": [
    "a = np.array([0,1,2,3,4,5,6,7,8,9,10,11])"
   ]
  },
  {
   "cell_type": "code",
   "execution_count": null,
   "metadata": {},
   "outputs": [],
   "source": [
    "a.shape"
   ]
  },
  {
   "cell_type": "code",
   "execution_count": null,
   "metadata": {
    "ExecuteTime": {
     "end_time": "2021-03-04T13:00:28.784164Z",
     "start_time": "2021-03-04T13:00:28.778418Z"
    }
   },
   "outputs": [],
   "source": [
    "a.shape = (1, 12)\n",
    "a"
   ]
  },
  {
   "cell_type": "code",
   "execution_count": null,
   "metadata": {},
   "outputs": [],
   "source": [
    "??np.reshape"
   ]
  },
  {
   "cell_type": "code",
   "execution_count": null,
   "metadata": {
    "ExecuteTime": {
     "end_time": "2021-03-04T13:02:28.005978Z",
     "start_time": "2021-03-04T13:02:27.996818Z"
    }
   },
   "outputs": [],
   "source": [
    "a = a.reshape(3, 4)\n",
    "\n",
    "a"
   ]
  },
  {
   "cell_type": "code",
   "execution_count": null,
   "metadata": {
    "ExecuteTime": {
     "start_time": "2021-03-04T13:03:51.936Z"
    }
   },
   "outputs": [],
   "source": [
    "# transposition of an arary\n",
    "\n",
    "a.T"
   ]
  },
  {
   "cell_type": "markdown",
   "metadata": {},
   "source": [
    "## Creating arrays\n",
    "\n",
    "The easiest way to create a 1-d array is to use a list. If you want a 2-d array, you use a list of lists. 3-d arrays are created using a list of lists of lists. You get the gist."
   ]
  },
  {
   "cell_type": "code",
   "execution_count": null,
   "metadata": {
    "ExecuteTime": {
     "end_time": "2021-03-04T13:10:43.986631Z",
     "start_time": "2021-03-04T13:10:43.703190Z"
    }
   },
   "outputs": [],
   "source": [
    "a_1d = np.array([1, 2, 3, 4])\n",
    "\n",
    "a_2d = np.array([\n",
    "    [1, 2, 3, 4],\n",
    "    [1, 4, 9, 16],\n",
    "    [1, 8, 27, 64]\n",
    "])\n",
    "\n",
    "a_3d = np.array([\n",
    "    [\n",
    "        [0, 0],\n",
    "        [0, 1],\n",
    "    ],\n",
    "    [\n",
    "        [1, 0],\n",
    "        [1, 1],\n",
    "    ],\n",
    "])"
   ]
  },
  {
   "cell_type": "code",
   "execution_count": null,
   "metadata": {},
   "outputs": [],
   "source": [
    "a_2d"
   ]
  },
  {
   "cell_type": "markdown",
   "metadata": {},
   "source": [
    "There are utility functions in the `np` module for creating popular types of arrays:\n",
    "- an array filled with zeros\n",
    "- an array filled with ones\n",
    "- an array filled with any value\n",
    "- an array of consecutive (or stepped) values\n",
    "- an array filled with random values\n",
    "- a diagonal array"
   ]
  },
  {
   "cell_type": "code",
   "execution_count": null,
   "metadata": {
    "ExecuteTime": {
     "end_time": "2021-03-04T13:11:23.604189Z",
     "start_time": "2021-03-04T13:11:23.595746Z"
    }
   },
   "outputs": [],
   "source": [
    "np.zeros(shape=(3,3))"
   ]
  },
  {
   "cell_type": "code",
   "execution_count": null,
   "metadata": {
    "ExecuteTime": {
     "end_time": "2021-03-03T23:53:47.705059Z",
     "start_time": "2021-03-03T23:53:47.701794Z"
    }
   },
   "outputs": [],
   "source": [
    "np.zeros(shape=(3,5))"
   ]
  },
  {
   "cell_type": "code",
   "execution_count": null,
   "metadata": {
    "ExecuteTime": {
     "end_time": "2021-03-04T13:11:45.001157Z",
     "start_time": "2021-03-04T13:11:44.993958Z"
    }
   },
   "outputs": [],
   "source": [
    "np.ones((3,2,3), dtype=np.int16)"
   ]
  },
  {
   "cell_type": "code",
   "execution_count": null,
   "metadata": {
    "ExecuteTime": {
     "end_time": "2021-03-04T13:12:26.368482Z",
     "start_time": "2021-03-04T13:12:26.361206Z"
    }
   },
   "outputs": [],
   "source": [
    "np.full(shape=(4,2), fill_value='mary had a little lamb')"
   ]
  },
  {
   "cell_type": "code",
   "execution_count": null,
   "metadata": {
    "ExecuteTime": {
     "end_time": "2021-03-04T13:12:46.553556Z",
     "start_time": "2021-03-04T13:12:46.538365Z"
    }
   },
   "outputs": [],
   "source": [
    "??np.arange"
   ]
  },
  {
   "cell_type": "code",
   "execution_count": null,
   "metadata": {
    "ExecuteTime": {
     "end_time": "2021-03-04T13:13:11.553100Z",
     "start_time": "2021-03-04T13:13:11.533041Z"
    }
   },
   "outputs": [],
   "source": [
    "np.arange(-2, 2, 0.5)"
   ]
  },
  {
   "cell_type": "code",
   "execution_count": null,
   "metadata": {},
   "outputs": [],
   "source": [
    "??np.random.randn"
   ]
  },
  {
   "cell_type": "code",
   "execution_count": null,
   "metadata": {
    "ExecuteTime": {
     "end_time": "2021-03-04T13:13:37.060198Z",
     "start_time": "2021-03-04T13:13:37.052684Z"
    }
   },
   "outputs": [],
   "source": [
    "np.random.randn(3, 3)"
   ]
  },
  {
   "cell_type": "code",
   "execution_count": null,
   "metadata": {
    "ExecuteTime": {
     "end_time": "2021-03-04T13:14:20.406628Z",
     "start_time": "2021-03-04T13:14:20.399730Z"
    }
   },
   "outputs": [],
   "source": [
    "np.random.randint(low=1, high=7, size=(3,3))"
   ]
  },
  {
   "cell_type": "code",
   "execution_count": null,
   "metadata": {
    "ExecuteTime": {
     "end_time": "2021-03-04T13:14:39.501768Z",
     "start_time": "2021-03-04T13:14:39.491009Z"
    }
   },
   "outputs": [],
   "source": [
    "np.eye(5)"
   ]
  },
  {
   "cell_type": "code",
   "execution_count": null,
   "metadata": {
    "ExecuteTime": {
     "end_time": "2021-03-04T13:14:59.335926Z",
     "start_time": "2021-03-04T13:14:59.328609Z"
    }
   },
   "outputs": [],
   "source": [
    "np.eye(5, 8)"
   ]
  },
  {
   "cell_type": "markdown",
   "metadata": {},
   "source": [
    "## Indexing arrays\n",
    "\n",
    "Arrays in `NumPy` are 0-indexed. Indexing of 1-d arrays is very easy, just follow the pattern of *start*:*end*:*step*"
   ]
  },
  {
   "cell_type": "code",
   "execution_count": null,
   "metadata": {
    "ExecuteTime": {
     "end_time": "2021-03-04T13:16:20.626180Z",
     "start_time": "2021-03-04T13:16:20.615565Z"
    }
   },
   "outputs": [],
   "source": [
    "a = np.arange(0, 10)\n",
    "\n",
    "print(f'Full array: {a}')\n",
    "print(f'First element: {a[0]}')\n",
    "print(f'First three elements: {a[0:3]}')\n",
    "print(f'Last element: {a[len(a)-1]} and {a[-1]}')\n",
    "print(f'Even elements: {a[::2]}')"
   ]
  },
  {
   "cell_type": "markdown",
   "metadata": {},
   "source": [
    "Indexing of n-dim arrays is a bit more tricky. Keep in mind that axis 0 refers to rows and axis 1 refers to columns. For high dimensional arrays try to build the following intuition:\n",
    "- 1-d: a row of values\n",
    "- 2-d: a matrix (rows and columns) of values\n",
    "- 3-d: a row of arrays\n",
    "- 4-d: a matrix of arrays\n",
    "- and so on..."
   ]
  },
  {
   "cell_type": "code",
   "execution_count": null,
   "metadata": {
    "ExecuteTime": {
     "end_time": "2021-03-04T13:18:21.877530Z",
     "start_time": "2021-03-04T13:18:21.866842Z"
    }
   },
   "outputs": [],
   "source": [
    "a = np.array([\n",
    "    [1, 2, 3, 4],\n",
    "    [10, 20, 30, 40],\n",
    "    [100, 200, 300, 400],\n",
    "])\n",
    "\n",
    "print(a)\n",
    "\n",
    "print(f'Element at second row, third column: {a[1,2]}')\n",
    "print(f'Entire first row: {a[0,]}')\n",
    "print(f'Entire first row as 2-d array: {a[0, None]}')\n",
    "print(f'First and second rows, last column: {a[:2,-1]}')\n"
   ]
  },
  {
   "cell_type": "markdown",
   "metadata": {},
   "source": [
    "The same goes with all n-dim arrays. For instance, let's extract first matrix, all rows, first column. You can also use indexing to assign multiple values to array cell at once."
   ]
  },
  {
   "cell_type": "code",
   "execution_count": null,
   "metadata": {
    "ExecuteTime": {
     "end_time": "2021-03-04T13:20:16.240846Z",
     "start_time": "2021-03-04T13:20:16.234427Z"
    }
   },
   "outputs": [],
   "source": [
    "a_3d"
   ]
  },
  {
   "cell_type": "code",
   "execution_count": null,
   "metadata": {
    "ExecuteTime": {
     "end_time": "2021-03-04T13:20:57.303804Z",
     "start_time": "2021-03-04T13:20:57.290046Z"
    }
   },
   "outputs": [],
   "source": [
    "a_3d[1, :, 0]"
   ]
  },
  {
   "cell_type": "code",
   "execution_count": null,
   "metadata": {
    "ExecuteTime": {
     "end_time": "2021-03-04T13:21:21.940140Z",
     "start_time": "2021-03-04T13:21:21.936109Z"
    }
   },
   "outputs": [],
   "source": [
    "a_3d[1, :, 1] = -1\n",
    "\n",
    "print(a_3d)"
   ]
  },
  {
   "cell_type": "markdown",
   "metadata": {},
   "source": [
    "## Basic operations on arrays\n",
    "\n",
    "All array operations are vectorized, so they tend to be very quick. By default, `NumPy` performs element-wise array operations. If you want to correctly multiply arrays, use `@` operator as shown below."
   ]
  },
  {
   "cell_type": "code",
   "execution_count": null,
   "metadata": {
    "ExecuteTime": {
     "end_time": "2021-03-04T13:22:29.144487Z",
     "start_time": "2021-03-04T13:22:29.139066Z"
    }
   },
   "outputs": [],
   "source": [
    "a = np.arange(0, 12)\n",
    "b = np.arange(12, 24)\n",
    "\n",
    "a.shape = b.shape = 3, 4"
   ]
  },
  {
   "cell_type": "code",
   "execution_count": null,
   "metadata": {
    "ExecuteTime": {
     "end_time": "2021-03-04T13:22:48.461576Z",
     "start_time": "2021-03-04T13:22:48.455160Z"
    }
   },
   "outputs": [],
   "source": [
    "a"
   ]
  },
  {
   "cell_type": "code",
   "execution_count": null,
   "metadata": {
    "ExecuteTime": {
     "end_time": "2021-03-04T13:23:07.434526Z",
     "start_time": "2021-03-04T13:23:07.425287Z"
    }
   },
   "outputs": [],
   "source": [
    "b"
   ]
  },
  {
   "cell_type": "code",
   "execution_count": null,
   "metadata": {
    "ExecuteTime": {
     "end_time": "2021-03-04T13:23:28.286320Z",
     "start_time": "2021-03-04T13:23:28.278655Z"
    }
   },
   "outputs": [],
   "source": [
    "a + b"
   ]
  },
  {
   "cell_type": "code",
   "execution_count": null,
   "metadata": {
    "ExecuteTime": {
     "end_time": "2021-03-04T00:22:14.920011Z",
     "start_time": "2021-03-04T00:22:14.917144Z"
    }
   },
   "outputs": [],
   "source": [
    "b - a"
   ]
  },
  {
   "cell_type": "code",
   "execution_count": null,
   "metadata": {
    "ExecuteTime": {
     "end_time": "2021-03-04T13:23:49.057702Z",
     "start_time": "2021-03-04T13:23:49.047245Z"
    }
   },
   "outputs": [],
   "source": [
    "a + 10"
   ]
  },
  {
   "cell_type": "code",
   "execution_count": null,
   "metadata": {},
   "outputs": [],
   "source": [
    "a.shape, b.shape"
   ]
  },
  {
   "cell_type": "code",
   "execution_count": null,
   "metadata": {
    "ExecuteTime": {
     "end_time": "2021-03-04T13:24:31.691102Z",
     "start_time": "2021-03-04T13:24:31.599197Z"
    }
   },
   "outputs": [],
   "source": [
    "a @ b.T "
   ]
  },
  {
   "cell_type": "markdown",
   "metadata": {},
   "source": [
    "## Exercises"
   ]
  },
  {
   "cell_type": "markdown",
   "metadata": {},
   "source": [
    "### Calculating sliding averages\n",
    "\n",
    "Given an array of daily measurements, create a new array with averages computed over each pair of consecutive days"
   ]
  },
  {
   "cell_type": "code",
   "execution_count": null,
   "metadata": {
    "ExecuteTime": {
     "end_time": "2021-03-04T13:31:26.704866Z",
     "start_time": "2021-03-04T13:31:26.701305Z"
    }
   },
   "outputs": [],
   "source": [
    "measurements = np.arange(100)\n",
    "..."
   ]
  },
  {
   "cell_type": "markdown",
   "metadata": {},
   "source": [
    "### Battleships\n",
    "\n",
    "Given a 10x10 playing field with hidden battleships and a list of shooting targets, compute the number of hits."
   ]
  },
  {
   "cell_type": "code",
   "execution_count": null,
   "metadata": {
    "ExecuteTime": {
     "end_time": "2021-03-04T13:25:41.276190Z",
     "start_time": "2021-03-04T13:25:41.262747Z"
    }
   },
   "outputs": [],
   "source": [
    "sea = np.random.randint(low=0, high=2, size=(10,10))\n",
    "\n",
    "sea"
   ]
  },
  {
   "cell_type": "code",
   "execution_count": null,
   "metadata": {
    "ExecuteTime": {
     "end_time": "2021-03-04T13:32:47.465378Z",
     "start_time": "2021-03-04T13:32:47.447322Z"
    }
   },
   "outputs": [],
   "source": [
    "targets = np.array([\n",
    "    [0,3],\n",
    "    [1,7],\n",
    "    [2,2],\n",
    "    [3,5],\n",
    "    [8,2]\n",
    "])\n",
    "..."
   ]
  },
  {
   "cell_type": "markdown",
   "metadata": {},
   "source": [
    "## Broadcasting\n",
    "\n",
    "This is by far the most important concept in `NumPy`. Broadcasting is an automatic expansion of arrays so that they match with their operands.\n",
    "\n",
    "Let's start with the simplest example."
   ]
  },
  {
   "cell_type": "code",
   "execution_count": null,
   "metadata": {
    "ExecuteTime": {
     "end_time": "2021-03-04T13:35:17.704786Z",
     "start_time": "2021-03-04T13:35:17.686981Z"
    }
   },
   "outputs": [],
   "source": [
    "a = np.arange(10)\n",
    "\n",
    "a + 10"
   ]
  },
  {
   "cell_type": "markdown",
   "metadata": {},
   "source": [
    "The same happens for 2-d arrays"
   ]
  },
  {
   "cell_type": "code",
   "execution_count": null,
   "metadata": {
    "ExecuteTime": {
     "end_time": "2021-03-04T13:36:11.473371Z",
     "start_time": "2021-03-04T13:36:11.467333Z"
    }
   },
   "outputs": [],
   "source": [
    "a = np.array([\n",
    "    [1, 2, 3, 4],\n",
    "    [1, 4, 9, 16],\n",
    "])\n",
    "\n",
    "b = np.array([\n",
    "    [0.1, 0.2]]\n",
    ")"
   ]
  },
  {
   "cell_type": "code",
   "execution_count": null,
   "metadata": {},
   "outputs": [],
   "source": [
    "a.shape, b.T.shape"
   ]
  },
  {
   "cell_type": "code",
   "execution_count": null,
   "metadata": {
    "ExecuteTime": {
     "end_time": "2021-03-04T13:37:13.042712Z",
     "start_time": "2021-03-04T13:37:13.034225Z"
    }
   },
   "outputs": [],
   "source": [
    "a + b.T"
   ]
  },
  {
   "cell_type": "markdown",
   "metadata": {},
   "source": [
    "The simple rule for broadcasting is the following:\n",
    "\n",
    "If we want to operate on two arrays `a` and `b`:\n",
    "- moving backwards from the last dimension of each array, we check if their dimensions are the same or one equals 1\n",
    "- if all of `a`'s dimensions are compatible with `b`'s dimensions, arrays `a` and `b` are compatible."
   ]
  },
  {
   "cell_type": "code",
   "execution_count": null,
   "metadata": {
    "ExecuteTime": {
     "end_time": "2021-03-04T13:38:54.057306Z",
     "start_time": "2021-03-04T13:38:54.047873Z"
    }
   },
   "outputs": [],
   "source": [
    "np.random.seed(1234)\n",
    "\n",
    "a = np.random.randint(low = 1, high = 10, size = (3, 4))\n",
    "print(a)\n",
    "\n",
    "b = np.random.randint(low = 1, high = 10, size = (3, 1))\n",
    "print(b)"
   ]
  },
  {
   "cell_type": "code",
   "execution_count": null,
   "metadata": {
    "ExecuteTime": {
     "end_time": "2021-03-04T13:39:40.655864Z",
     "start_time": "2021-03-04T13:39:40.649136Z"
    }
   },
   "outputs": [],
   "source": [
    "a + b"
   ]
  },
  {
   "cell_type": "code",
   "execution_count": null,
   "metadata": {
    "ExecuteTime": {
     "end_time": "2021-03-04T13:40:26.857657Z",
     "start_time": "2021-03-04T13:40:26.842121Z"
    }
   },
   "outputs": [],
   "source": [
    "np.random.seed(1234)\n",
    "\n",
    "a = np.random.randint(low = 1, high = 10, size = (3, 1, 4))\n",
    "print(a)\n",
    "\n",
    "b = np.random.randint(low = 1, high = 10, size = (2, 1))\n",
    "print(b)"
   ]
  },
  {
   "cell_type": "code",
   "execution_count": null,
   "metadata": {
    "ExecuteTime": {
     "end_time": "2021-03-04T13:41:35.532034Z",
     "start_time": "2021-03-04T13:41:35.525365Z"
    }
   },
   "outputs": [],
   "source": [
    "(a + b).shape"
   ]
  },
  {
   "cell_type": "markdown",
   "metadata": {},
   "source": [
    "Sometimes it is useful to be able to manually modify the shape of the array. This can be done using the `np.newaxis` function (which is simply an alias for the `None` keyword)"
   ]
  },
  {
   "cell_type": "code",
   "execution_count": null,
   "metadata": {
    "ExecuteTime": {
     "end_time": "2021-03-04T13:42:18.823863Z",
     "start_time": "2021-03-04T13:42:18.815881Z"
    }
   },
   "outputs": [],
   "source": [
    "a = np.array([1, 2, 3, 5, 7, 11, 13])"
   ]
  },
  {
   "cell_type": "code",
   "execution_count": null,
   "metadata": {
    "ExecuteTime": {
     "end_time": "2021-03-04T13:42:38.297766Z",
     "start_time": "2021-03-04T13:42:38.293802Z"
    }
   },
   "outputs": [],
   "source": [
    "a.shape"
   ]
  },
  {
   "cell_type": "code",
   "execution_count": null,
   "metadata": {
    "ExecuteTime": {
     "end_time": "2021-03-04T13:42:56.190484Z",
     "start_time": "2021-03-04T13:42:56.184128Z"
    }
   },
   "outputs": [],
   "source": [
    "a[:, np.newaxis].shape"
   ]
  },
  {
   "cell_type": "code",
   "execution_count": null,
   "metadata": {
    "ExecuteTime": {
     "end_time": "2021-03-04T00:49:52.530524Z",
     "start_time": "2021-03-04T00:49:52.526643Z"
    }
   },
   "outputs": [],
   "source": [
    "a[None, :].shape"
   ]
  },
  {
   "cell_type": "markdown",
   "metadata": {},
   "source": [
    "This can be very useful if one wants to build an array containing the results of a cross-join operation on two matrices. Suppose we are trying to create $c_{ij} = a_i - b_j$."
   ]
  },
  {
   "cell_type": "code",
   "execution_count": null,
   "metadata": {
    "ExecuteTime": {
     "end_time": "2021-03-04T13:44:37.156766Z",
     "start_time": "2021-03-04T13:44:37.148882Z"
    }
   },
   "outputs": [],
   "source": [
    "b = np.arange(7)\n",
    "\n",
    "c = a[:, None] - b[None, :]\n",
    "\n",
    "print(c)"
   ]
  },
  {
   "cell_type": "markdown",
   "metadata": {},
   "source": [
    "## Boolean indexing\n",
    "\n",
    "Anytime you have a boolean array, you can use it to mask entries in another array."
   ]
  },
  {
   "cell_type": "code",
   "execution_count": null,
   "metadata": {
    "ExecuteTime": {
     "end_time": "2021-03-04T13:45:11.374291Z",
     "start_time": "2021-03-04T13:45:11.363385Z"
    }
   },
   "outputs": [],
   "source": [
    "a = np.random.randint(0, 100, size=(5,5))\n",
    "\n",
    "a"
   ]
  },
  {
   "cell_type": "code",
   "execution_count": null,
   "metadata": {
    "ExecuteTime": {
     "end_time": "2021-03-04T13:45:31.259277Z",
     "start_time": "2021-03-04T13:45:31.255325Z"
    }
   },
   "outputs": [],
   "source": [
    "temps_greater_than_50 = a > 50"
   ]
  },
  {
   "cell_type": "code",
   "execution_count": null,
   "metadata": {},
   "outputs": [],
   "source": [
    "a[temps_greater_than_50]"
   ]
  },
  {
   "cell_type": "markdown",
   "metadata": {},
   "source": [
    "Boolean masking may be applied not only to values, but to rows and columns as well. Just remember to use slicing:\n",
    "\n",
    "*array*[*row_mask*,*col_mask*]"
   ]
  },
  {
   "cell_type": "code",
   "execution_count": null,
   "metadata": {
    "ExecuteTime": {
     "end_time": "2021-03-04T13:47:08.375507Z",
     "start_time": "2021-03-04T13:47:08.372114Z"
    }
   },
   "outputs": [],
   "source": [
    "rows_2_and_4 = np.array([False, True, False, True, False])\n",
    "cols_1_and_2 = np.array([True, True, False, False, False])"
   ]
  },
  {
   "cell_type": "code",
   "execution_count": null,
   "metadata": {
    "ExecuteTime": {
     "end_time": "2021-03-04T13:47:27.929029Z",
     "start_time": "2021-03-04T13:47:27.923550Z"
    }
   },
   "outputs": [],
   "source": [
    "a[rows_2_and_4]"
   ]
  },
  {
   "cell_type": "code",
   "execution_count": null,
   "metadata": {
    "ExecuteTime": {
     "end_time": "2021-03-04T13:47:52.672419Z",
     "start_time": "2021-03-04T13:47:52.653408Z"
    }
   },
   "outputs": [],
   "source": [
    "a[rows_2_and_4, cols_1_and_2]"
   ]
  },
  {
   "cell_type": "code",
   "execution_count": null,
   "metadata": {
    "ExecuteTime": {
     "end_time": "2021-03-04T13:48:13.933580Z",
     "start_time": "2021-03-04T13:48:13.927241Z"
    }
   },
   "outputs": [],
   "source": [
    "names = np.array([\"Dennis\", \"Dee\", \"Charlie\", \"Mac\", \"Frank\"])\n",
    "ages = np.array([43, 44, 43, 42, 74])\n",
    "genders = np.array(['male', 'female', 'male', 'male', 'male'])"
   ]
  },
  {
   "cell_type": "code",
   "execution_count": null,
   "metadata": {
    "ExecuteTime": {
     "end_time": "2021-03-04T13:49:00.219652Z",
     "start_time": "2021-03-04T13:49:00.212754Z"
    }
   },
   "outputs": [],
   "source": [
    "names[(genders == 'male') & (ages > 43)]"
   ]
  },
  {
   "cell_type": "code",
   "execution_count": null,
   "metadata": {
    "ExecuteTime": {
     "end_time": "2021-03-04T13:49:20.367011Z",
     "start_time": "2021-03-04T13:49:20.356561Z"
    }
   },
   "outputs": [],
   "source": [
    "names[~(genders == 'male') & (ages % 2 == 0)]"
   ]
  },
  {
   "cell_type": "markdown",
   "metadata": {},
   "source": [
    "## `Random` module\n",
    "\n",
    "One of the most frequently used parts of the `NumPy` is the random number generation procedure. Below you can see examples of different samples:\n",
    "- normal sample\n",
    "- uniform sample\n",
    "- choosing from a set with/without replacement"
   ]
  },
  {
   "cell_type": "code",
   "execution_count": null,
   "metadata": {
    "ExecuteTime": {
     "end_time": "2021-03-04T13:49:46.450773Z",
     "start_time": "2021-03-04T13:49:46.441714Z"
    }
   },
   "outputs": [],
   "source": [
    "np.random.normal(loc=10.0, scale=1.0, size=(3,3))"
   ]
  },
  {
   "cell_type": "code",
   "execution_count": null,
   "metadata": {
    "ExecuteTime": {
     "end_time": "2021-03-04T13:50:24.492056Z",
     "start_time": "2021-03-04T13:50:24.475232Z"
    }
   },
   "outputs": [],
   "source": [
    "np.random.randint(low=10, high=20, size=(3,3))"
   ]
  },
  {
   "cell_type": "code",
   "execution_count": null,
   "metadata": {
    "ExecuteTime": {
     "end_time": "2021-03-04T13:50:44.336204Z",
     "start_time": "2021-03-04T13:50:44.319264Z"
    }
   },
   "outputs": [],
   "source": [
    "np.random.uniform(low=0, high=1, size=5)"
   ]
  },
  {
   "cell_type": "code",
   "execution_count": null,
   "metadata": {
    "ExecuteTime": {
     "end_time": "2021-03-04T13:51:25.029510Z",
     "start_time": "2021-03-04T13:51:25.019781Z"
    }
   },
   "outputs": [],
   "source": [
    "np.random.choice(\n",
    "    a=[1,2,3,4,5,6],\n",
    "    replace=True,\n",
    "    size=10\n",
    ")"
   ]
  },
  {
   "cell_type": "code",
   "execution_count": null,
   "metadata": {
    "ExecuteTime": {
     "end_time": "2021-03-04T13:51:44.710682Z",
     "start_time": "2021-03-04T13:51:44.701007Z"
    }
   },
   "outputs": [],
   "source": [
    "np.random.choice(\n",
    "    a=['this','is','sampling','without','replacement'],\n",
    "    replace=True,\n",
    "    size=8\n",
    ")"
   ]
  },
  {
   "cell_type": "markdown",
   "metadata": {},
   "source": [
    "Despite the fact that most people use the `random` module as above, this way is in fact deprecated, because it introduces a dependency on the random number generator used currently by `NumPy`. In theory, if `NumPy` changes the generator, all the code becomes non-reproducible.\n",
    "A simple solution is to use the generic `Generator` class."
   ]
  },
  {
   "cell_type": "code",
   "execution_count": null,
   "metadata": {
    "ExecuteTime": {
     "end_time": "2021-03-04T13:52:59.008011Z",
     "start_time": "2021-03-04T13:52:58.997582Z"
    }
   },
   "outputs": [],
   "source": [
    "generator = np.random.default_rng(seed=123)"
   ]
  },
  {
   "cell_type": "code",
   "execution_count": null,
   "metadata": {
    "ExecuteTime": {
     "end_time": "2021-03-04T13:53:20.226665Z",
     "start_time": "2021-03-04T13:53:20.216145Z"
    }
   },
   "outputs": [],
   "source": [
    "generator.integers(low=1, high=100, size=10)"
   ]
  },
  {
   "cell_type": "code",
   "execution_count": null,
   "metadata": {
    "ExecuteTime": {
     "end_time": "2021-03-04T13:53:41.500806Z",
     "start_time": "2021-03-04T13:53:41.488864Z"
    }
   },
   "outputs": [],
   "source": [
    "generator.normal(loc=0, scale=1, size=10)"
   ]
  },
  {
   "cell_type": "code",
   "execution_count": null,
   "metadata": {
    "ExecuteTime": {
     "end_time": "2021-03-04T13:54:01.554116Z",
     "start_time": "2021-03-04T13:54:01.544657Z"
    }
   },
   "outputs": [],
   "source": [
    "generator.choice(a=[1,2,3], replace=True, size=10)"
   ]
  },
  {
   "cell_type": "markdown",
   "metadata": {},
   "source": [
    "## Exercises"
   ]
  },
  {
   "cell_type": "markdown",
   "metadata": {},
   "source": [
    "### Two reviewers\n",
    "\n",
    "You are given two arrays representing ratings assigned to 100 movies by two reviewers. Identify movies such that the reviewers differ in their rating by at most 1."
   ]
  },
  {
   "cell_type": "code",
   "execution_count": null,
   "metadata": {
    "ExecuteTime": {
     "end_time": "2021-03-04T01:23:50.673956Z",
     "start_time": "2021-03-04T01:23:50.665992Z"
    }
   },
   "outputs": [],
   "source": [
    "movies = np.arange(100)\n",
    "reviewer_a = np.random.choice(a=[1,2,3,4,5], size=100)\n",
    "reviewer_b = np.random.choice(a=[1,2,3,4,5], size=100)"
   ]
  },
  {
   "cell_type": "markdown",
   "metadata": {},
   "source": [
    "## Using `where`\n",
    "\n",
    "`np.where` is a very useful function which allows to quickly filter elements of an array based on the condition. Imagine you have two large arrays and you want to create a third array such that it contains, for each cell, the larger value from the two arrays. First, let's do it in a traditional way."
   ]
  },
  {
   "cell_type": "code",
   "execution_count": null,
   "metadata": {
    "ExecuteTime": {
     "end_time": "2021-03-04T13:54:22.651424Z",
     "start_time": "2021-03-04T13:54:22.638584Z"
    }
   },
   "outputs": [],
   "source": [
    "a = np.random.randint(1, 6, size=10**6)\n",
    "b = np.random.randint(1, 6, size=10**6)"
   ]
  },
  {
   "cell_type": "code",
   "execution_count": null,
   "metadata": {
    "ExecuteTime": {
     "end_time": "2021-03-04T13:54:47.525977Z",
     "start_time": "2021-03-04T13:54:47.302492Z"
    }
   },
   "outputs": [],
   "source": [
    "%%time\n",
    "c = np.zeros(a.size)\n",
    "\n",
    "for i in range(a.size):\n",
    "    if a[i] > b[i]:\n",
    "        c[i] = a[i]\n",
    "    else:\n",
    "        c[i] = b[i]\n"
   ]
  },
  {
   "cell_type": "code",
   "execution_count": null,
   "metadata": {
    "ExecuteTime": {
     "end_time": "2021-03-04T13:55:15.932190Z",
     "start_time": "2021-03-04T13:55:15.923076Z"
    }
   },
   "outputs": [],
   "source": [
    "%%time\n",
    "d = np.where(a > b, a, b)"
   ]
  },
  {
   "cell_type": "code",
   "execution_count": null,
   "metadata": {
    "ExecuteTime": {
     "end_time": "2021-03-04T13:55:34.871139Z",
     "start_time": "2021-03-04T13:55:34.863928Z"
    }
   },
   "outputs": [],
   "source": [
    "np.array_equal(c,d)"
   ]
  },
  {
   "cell_type": "markdown",
   "metadata": {},
   "source": [
    "## Exercises"
   ]
  },
  {
   "cell_type": "markdown",
   "metadata": {},
   "source": [
    "### First to finish the assignment\n",
    "\n",
    "Given an array with students' assignments ordered by the increasing date of submission, you want to reward first 3 students who submitted their work and who got at least 75 points. Increase their scores by 5 points."
   ]
  },
  {
   "cell_type": "code",
   "execution_count": null,
   "metadata": {},
   "outputs": [],
   "source": [
    "grades = np.random.randint(low=0, high=100, size=50)\n",
    "..."
   ]
  },
  {
   "cell_type": "markdown",
   "metadata": {},
   "source": [
    "## Math functions\n",
    "\n",
    "`NumPy` contains several highly optimized implementations of math functions. Whenever possible, try to use them instead of your own implementations. Remember, that math functions are easily generalized to n-dim arrays."
   ]
  },
  {
   "cell_type": "code",
   "execution_count": null,
   "metadata": {
    "ExecuteTime": {
     "end_time": "2021-03-04T13:55:56.832810Z",
     "start_time": "2021-03-04T13:55:56.824608Z"
    }
   },
   "outputs": [],
   "source": [
    "a = np.array([\n",
    "    [1, 2, 3, 4],\n",
    "    [5, 6, 7, 8],\n",
    "    [9, 10, 11, 12],\n",
    "    [13, 14, 15, 16],\n",
    "], dtype=np.float64)"
   ]
  },
  {
   "cell_type": "code",
   "execution_count": null,
   "metadata": {},
   "outputs": [],
   "source": [
    "a"
   ]
  },
  {
   "cell_type": "code",
   "execution_count": null,
   "metadata": {
    "ExecuteTime": {
     "end_time": "2021-03-04T13:56:18.831366Z",
     "start_time": "2021-03-04T13:56:18.823776Z"
    }
   },
   "outputs": [],
   "source": [
    "np.sum(a)"
   ]
  },
  {
   "cell_type": "code",
   "execution_count": null,
   "metadata": {
    "ExecuteTime": {
     "end_time": "2021-03-04T13:56:39.594967Z",
     "start_time": "2021-03-04T13:56:39.585219Z"
    }
   },
   "outputs": [],
   "source": [
    "np.sum(a, axis=0)"
   ]
  },
  {
   "cell_type": "code",
   "execution_count": null,
   "metadata": {
    "ExecuteTime": {
     "end_time": "2021-03-04T13:57:00.640615Z",
     "start_time": "2021-03-04T13:57:00.630804Z"
    }
   },
   "outputs": [],
   "source": [
    "np.sum(a, axis=1)"
   ]
  },
  {
   "cell_type": "markdown",
   "metadata": {},
   "source": [
    "But beware of `nan`s, as they tend to destroy all math!"
   ]
  },
  {
   "cell_type": "code",
   "execution_count": null,
   "metadata": {},
   "outputs": [],
   "source": [
    "a"
   ]
  },
  {
   "cell_type": "code",
   "execution_count": null,
   "metadata": {
    "ExecuteTime": {
     "end_time": "2021-03-04T13:57:21.736012Z",
     "start_time": "2021-03-04T13:57:21.723411Z"
    }
   },
   "outputs": [],
   "source": [
    "a[2,2] = np.nan"
   ]
  },
  {
   "cell_type": "code",
   "execution_count": null,
   "metadata": {},
   "outputs": [],
   "source": [
    "a.sum()"
   ]
  },
  {
   "cell_type": "code",
   "execution_count": null,
   "metadata": {
    "ExecuteTime": {
     "end_time": "2021-03-04T13:57:41.411491Z",
     "start_time": "2021-03-04T13:57:41.397966Z"
    }
   },
   "outputs": [],
   "source": [
    "a[~np.isnan(a)]"
   ]
  },
  {
   "cell_type": "code",
   "execution_count": null,
   "metadata": {
    "ExecuteTime": {
     "end_time": "2021-03-04T13:58:16.780516Z",
     "start_time": "2021-03-04T13:58:16.773134Z"
    }
   },
   "outputs": [],
   "source": [
    "a[~np.isnan(a)].sum()"
   ]
  },
  {
   "cell_type": "code",
   "execution_count": null,
   "metadata": {
    "ExecuteTime": {
     "end_time": "2021-03-04T01:47:25.545186Z",
     "start_time": "2021-03-04T01:47:25.541010Z"
    }
   },
   "outputs": [],
   "source": [
    "np.sum(a, where=~np.isnan(a))"
   ]
  },
  {
   "cell_type": "code",
   "execution_count": null,
   "metadata": {
    "ExecuteTime": {
     "end_time": "2021-03-04T13:58:38.027639Z",
     "start_time": "2021-03-04T13:58:38.020977Z"
    }
   },
   "outputs": [],
   "source": [
    "np.nansum(a)"
   ]
  },
  {
   "cell_type": "code",
   "execution_count": null,
   "metadata": {
    "ExecuteTime": {
     "end_time": "2021-03-04T01:47:49.661301Z",
     "start_time": "2021-03-04T01:47:49.657068Z"
    }
   },
   "outputs": [],
   "source": [
    "np.sum(np.nan_to_num(a))"
   ]
  },
  {
   "cell_type": "markdown",
   "metadata": {
    "ExecuteTime": {
     "end_time": "2021-03-04T01:42:42.061430Z",
     "start_time": "2021-03-04T01:42:42.050688Z"
    }
   },
   "source": [
    "Let's see what else we can do with `nan`s"
   ]
  },
  {
   "cell_type": "code",
   "execution_count": null,
   "metadata": {
    "ExecuteTime": {
     "end_time": "2021-03-04T13:59:12.944488Z",
     "start_time": "2021-03-04T13:59:12.939040Z"
    }
   },
   "outputs": [],
   "source": [
    "a[0,1] = np.nan\n",
    "a[1,3] = np.nan"
   ]
  },
  {
   "cell_type": "code",
   "execution_count": null,
   "metadata": {
    "ExecuteTime": {
     "end_time": "2021-03-04T13:59:33.838490Z",
     "start_time": "2021-03-04T13:59:33.831079Z"
    }
   },
   "outputs": [],
   "source": [
    "np.isnan(a)"
   ]
  },
  {
   "cell_type": "code",
   "execution_count": null,
   "metadata": {
    "ExecuteTime": {
     "end_time": "2021-03-04T13:59:53.706363Z",
     "start_time": "2021-03-04T13:59:53.692944Z"
    }
   },
   "outputs": [],
   "source": [
    "np.any(np.isnan(a), axis=1)"
   ]
  },
  {
   "cell_type": "code",
   "execution_count": null,
   "metadata": {
    "ExecuteTime": {
     "end_time": "2021-03-04T01:49:01.901219Z",
     "start_time": "2021-03-04T01:49:01.890166Z"
    }
   },
   "outputs": [],
   "source": [
    "mask = np.any(np.isnan(a), axis=1)\n",
    "a[mask]"
   ]
  },
  {
   "cell_type": "markdown",
   "metadata": {},
   "source": [
    "## Concatenation & sorting\n",
    "\n",
    "Concatenation means joining two arrays by rows or by columns. An array may be concatenated with itself or with another array. There are 4 functions that help with concatenation."
   ]
  },
  {
   "cell_type": "code",
   "execution_count": null,
   "metadata": {
    "ExecuteTime": {
     "end_time": "2021-03-04T14:00:20.888625Z",
     "start_time": "2021-03-04T14:00:20.882599Z"
    }
   },
   "outputs": [],
   "source": [
    "a = np.zeros(shape=(3,2))\n",
    "b = np.ones(shape=(2,2))"
   ]
  },
  {
   "cell_type": "code",
   "execution_count": null,
   "metadata": {},
   "outputs": [],
   "source": [
    "a"
   ]
  },
  {
   "cell_type": "code",
   "execution_count": null,
   "metadata": {},
   "outputs": [],
   "source": [
    "b"
   ]
  },
  {
   "cell_type": "code",
   "execution_count": null,
   "metadata": {
    "ExecuteTime": {
     "end_time": "2021-03-04T14:01:03.119193Z",
     "start_time": "2021-03-04T14:01:03.111622Z"
    }
   },
   "outputs": [],
   "source": [
    "np.concatenate([a, a, a, a], axis=0)"
   ]
  },
  {
   "cell_type": "code",
   "execution_count": null,
   "metadata": {
    "ExecuteTime": {
     "end_time": "2021-03-04T14:01:24.611639Z",
     "start_time": "2021-03-04T14:01:24.601800Z"
    }
   },
   "outputs": [],
   "source": [
    "np.concatenate([a, b], axis=0)"
   ]
  },
  {
   "cell_type": "code",
   "execution_count": null,
   "metadata": {
    "ExecuteTime": {
     "end_time": "2021-03-04T14:01:45.184130Z",
     "start_time": "2021-03-04T14:01:45.176845Z"
    }
   },
   "outputs": [],
   "source": [
    "np.vstack([a,b])"
   ]
  },
  {
   "cell_type": "code",
   "execution_count": null,
   "metadata": {
    "ExecuteTime": {
     "end_time": "2021-03-04T14:02:19.702880Z",
     "start_time": "2021-03-04T14:02:19.690719Z"
    }
   },
   "outputs": [],
   "source": [
    "np.hstack([a.T,b])"
   ]
  },
  {
   "cell_type": "code",
   "execution_count": null,
   "metadata": {
    "ExecuteTime": {
     "end_time": "2021-03-04T14:02:40.021682Z",
     "start_time": "2021-03-04T14:02:40.012718Z"
    }
   },
   "outputs": [],
   "source": [
    "np.stack([a[:2,:2], b], axis=0)"
   ]
  },
  {
   "cell_type": "markdown",
   "metadata": {},
   "source": [
    "Unfortunately, `NumPy` does not provide any easy way of reverse sort, and sorting is limited to two functions."
   ]
  },
  {
   "cell_type": "code",
   "execution_count": null,
   "metadata": {
    "ExecuteTime": {
     "end_time": "2021-03-04T14:02:59.926226Z",
     "start_time": "2021-03-04T14:02:59.915083Z"
    }
   },
   "outputs": [],
   "source": [
    "a = np.random.randint(1, 100, size=50)\n",
    "a"
   ]
  },
  {
   "cell_type": "code",
   "execution_count": null,
   "metadata": {
    "ExecuteTime": {
     "end_time": "2021-03-04T14:03:21.860268Z",
     "start_time": "2021-03-04T14:03:21.852152Z"
    }
   },
   "outputs": [],
   "source": [
    "a.sort()"
   ]
  },
  {
   "cell_type": "code",
   "execution_count": null,
   "metadata": {
    "ExecuteTime": {
     "end_time": "2021-03-04T14:03:42.783979Z",
     "start_time": "2021-03-04T14:03:42.777811Z"
    }
   },
   "outputs": [],
   "source": [
    "a[::-1]"
   ]
  },
  {
   "cell_type": "code",
   "execution_count": null,
   "metadata": {
    "ExecuteTime": {
     "end_time": "2021-03-04T14:04:04.088452Z",
     "start_time": "2021-03-04T14:04:04.082647Z"
    }
   },
   "outputs": [],
   "source": [
    "np.sort(a)[::-1]"
   ]
  },
  {
   "cell_type": "markdown",
   "metadata": {},
   "source": [
    "If you want to be able to sort values in the first column of an array according to the order in the second column of an array, you need to use `np.argsort`."
   ]
  },
  {
   "cell_type": "code",
   "execution_count": null,
   "metadata": {
    "ExecuteTime": {
     "end_time": "2021-03-04T02:12:52.520705Z",
     "start_time": "2021-03-04T02:12:52.510136Z"
    }
   },
   "outputs": [],
   "source": [
    "a = np.random.randint(1, 100, size=20)\n",
    "a.shape = 5,4\n",
    "\n",
    "print(a)"
   ]
  },
  {
   "cell_type": "code",
   "execution_count": null,
   "metadata": {
    "ExecuteTime": {
     "end_time": "2021-03-04T02:04:49.330043Z",
     "start_time": "2021-03-04T02:04:49.322913Z"
    }
   },
   "outputs": [],
   "source": [
    "np.sort(a, axis=0)"
   ]
  },
  {
   "cell_type": "code",
   "execution_count": null,
   "metadata": {
    "ExecuteTime": {
     "end_time": "2021-03-04T02:13:03.936412Z",
     "start_time": "2021-03-04T02:13:03.933382Z"
    }
   },
   "outputs": [],
   "source": [
    "a"
   ]
  },
  {
   "cell_type": "code",
   "execution_count": null,
   "metadata": {
    "ExecuteTime": {
     "end_time": "2021-03-04T02:17:19.282624Z",
     "start_time": "2021-03-04T02:17:19.270150Z"
    }
   },
   "outputs": [],
   "source": [
    "a[np.argsort(a[:,2])]"
   ]
  },
  {
   "cell_type": "code",
   "execution_count": null,
   "metadata": {},
   "outputs": [],
   "source": []
  }
 ],
 "metadata": {
  "kernelspec": {
   "display_name": "Python 3 (ipykernel)",
   "language": "python",
   "name": "python3"
  },
  "language_info": {
   "codemirror_mode": {
    "name": "ipython",
    "version": 3
   },
   "file_extension": ".py",
   "mimetype": "text/x-python",
   "name": "python",
   "nbconvert_exporter": "python",
   "pygments_lexer": "ipython3",
   "version": "3.10.7"
  },
  "toc": {
   "base_numbering": 1,
   "nav_menu": {},
   "number_sections": true,
   "sideBar": true,
   "skip_h1_title": false,
   "title_cell": "Table of Contents",
   "title_sidebar": "Contents",
   "toc_cell": false,
   "toc_position": {},
   "toc_section_display": true,
   "toc_window_display": false
  },
  "varInspector": {
   "cols": {
    "lenName": 16,
    "lenType": 16,
    "lenVar": 40
   },
   "kernels_config": {
    "python": {
     "delete_cmd_postfix": "",
     "delete_cmd_prefix": "del ",
     "library": "var_list.py",
     "varRefreshCmd": "print(var_dic_list())"
    },
    "r": {
     "delete_cmd_postfix": ") ",
     "delete_cmd_prefix": "rm(",
     "library": "var_list.r",
     "varRefreshCmd": "cat(var_dic_list()) "
    }
   },
   "types_to_exclude": [
    "module",
    "function",
    "builtin_function_or_method",
    "instance",
    "_Feature"
   ],
   "window_display": false
  }
 },
 "nbformat": 4,
 "nbformat_minor": 4
}
